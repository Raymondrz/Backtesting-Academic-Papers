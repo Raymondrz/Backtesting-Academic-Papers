{
 "cells": [
  {
   "cell_type": "code",
   "execution_count": 1,
   "metadata": {},
   "outputs": [],
   "source": [
    "import numpy as np\n",
    "import pandas as pd\n",
    "import matplotlib.pyplot as plt\n",
    "%matplotlib inline\n",
    "import seaborn\n",
    "from datetime import date, timedelta\n",
    "#Statistics\n",
    "from statsmodels import regression\n",
    "import statsmodels.api as sm\n",
    "import statsmodels.tsa.stattools as ts\n",
    "from statsmodels.tsa.stattools import coint\n",
    "from statsmodels.tsa.stattools import acf, pacf\n",
    "from scipy.odr import Model, Data, ODR\n",
    "from sklearn.metrics import r2_score\n",
    "import math"
   ]
  },
  {
   "cell_type": "code",
   "execution_count": 123,
   "metadata": {},
   "outputs": [],
   "source": [
    "os.chdir('C:\\\\blp\\\\API\\\\cpp\\\\bin')"
   ]
  },
  {
   "cell_type": "code",
   "execution_count": 2,
   "metadata": {},
   "outputs": [],
   "source": [
    "import os\n",
    "import blpapi\n",
    "from xbbg import blp"
   ]
  },
  {
   "cell_type": "code",
   "execution_count": 288,
   "metadata": {},
   "outputs": [],
   "source": [
    "#List of S&P500 Consituents stock\n",
    "dr=blp.bds(tickers='SPX Index', flds=['INDX_MEMBERS'])\n",
    "data=dr['member_ticker_and_exchange_code'].reset_index(drop=True).tolist()\n",
    "sp500equity=[df +' Equity' for df in data]"
   ]
  },
  {
   "cell_type": "code",
   "execution_count": null,
   "metadata": {},
   "outputs": [],
   "source": []
  },
  {
   "cell_type": "code",
   "execution_count": 4,
   "metadata": {},
   "outputs": [],
   "source": [
    "def CSK(list1,list2):\n",
    "    #list1 asset return signed, list 2 market return signed and asset 3 market return unsigned\n",
    "    num=0\n",
    "    denum=0\n",
    "    denum1=0\n",
    "    denum2=0\n",
    "    m=0\n",
    "    meanasset=0\n",
    "    meanmarket=0\n",
    "    m=len(list1)\n",
    "    meanasset=list1.mean()\n",
    "    meanmarket=list2.mean()\n",
    "    for x,y in list(zip(list1,list2)):\n",
    "        num+=(x-meanasset)*((y-meanmarket)**2)\n",
    "        denum1+=(x-meanasset)**2\n",
    "        denum2+=(y-meanmarket)**2\n",
    "    num=num/m\n",
    "    denum1=math.sqrt(denum1/m)\n",
    "    denum2=denum2/m\n",
    "    denum=denum1*denum2\n",
    "    coef=num/denum\n",
    "    return coef\n",
    "def CKT(list1,list2):\n",
    "    #list1 asset return signed, list 2 market return signed and asset 3 market return unsigned\n",
    "    num=0\n",
    "    denum=0\n",
    "    denum1=0\n",
    "    denum2=0\n",
    "    m=0\n",
    "    meanasset=0\n",
    "    meanmarket=0\n",
    "    m=len(list1)\n",
    "    meanasset=list1.mean()\n",
    "    meanmarket=list2.mean()\n",
    "    for x,y in list(zip(list1,list2)):\n",
    "        num+=(x-meanasset)*((y-meanmarket)**3)\n",
    "        denum1+=(x-meanasset)**2\n",
    "        denum2+=(y-meanmarket)**2\n",
    "    num=num/m\n",
    "    denum1=math.sqrt(denum1/m)\n",
    "    denum2=(denum2/m)*math.sqrt(denum2/m)\n",
    "    denum=denum1*denum2\n",
    "    coef=num/denum\n",
    "    return coef "
   ]
  },
  {
   "cell_type": "code",
   "execution_count": 5,
   "metadata": {},
   "outputs": [],
   "source": [
    "def betacal(list1,list2,list3):\n",
    "    #list1 asset return signed, list 2 market return signed and asset 3 market return unsigned\n",
    "    num=0\n",
    "    denum=0\n",
    "    for x,y in list(zip(list1,list2)):\n",
    "        num+=x*y\n",
    "    for x in list3:\n",
    "        denum+=x**2\n",
    "    coef=num/denum\n",
    "    return coef"
   ]
  },
  {
   "cell_type": "code",
   "execution_count": 290,
   "metadata": {},
   "outputs": [],
   "source": [
    "#Daily return\n",
    "dailydf=pd.DataFrame()\n",
    "for sym in sp500equity:\n",
    "    ds=blp.bdh(tickers=sym,flds=['open','last_price'],start_date='2020-05-22',end_date='2020-10-6')\n",
    "    ds.columns=ds.columns.droplevel()\n",
    "    ds['change']=ds['last_price'].pct_change()\n",
    "    dailydf=pd.concat([dailydf,ds['change']],axis=1)\n",
    "dailydf.columns=data"
   ]
  },
  {
   "cell_type": "code",
   "execution_count": 293,
   "metadata": {
    "scrolled": true
   },
   "outputs": [],
   "source": [
    "#dailydf.to_csv('C:\\\\Users\\\\raymond.widjaja\\\\Desktop\\\\SemiBetas Data\\\\SPX500DDailyReturn.csv')"
   ]
  },
  {
   "cell_type": "code",
   "execution_count": null,
   "metadata": {},
   "outputs": [],
   "source": []
  },
  {
   "cell_type": "markdown",
   "metadata": {},
   "source": [
    "### Main Frame [Get beta daily directly from bloomberg]"
   ]
  },
  {
   "cell_type": "code",
   "execution_count": 391,
   "metadata": {
    "collapsed": true
   },
   "outputs": [
    {
     "ename": "ConnectionError",
     "evalue": "Cannot connect to Bloomberg",
     "output_type": "error",
     "traceback": [
      "\u001b[1;31m---------------------------------------------------------------------------\u001b[0m",
      "\u001b[1;31mInvalidStateException\u001b[0m                     Traceback (most recent call last)",
      "\u001b[1;32mC:\\ProgramData\\Anaconda3\\lib\\site-packages\\xbbg\\core\\conn.py\u001b[0m in \u001b[0;36msend_request\u001b[1;34m(request, **kwargs)\u001b[0m\n\u001b[0;32m    100\u001b[0m     \u001b[1;32mtry\u001b[0m\u001b[1;33m:\u001b[0m\u001b[1;33m\u001b[0m\u001b[1;33m\u001b[0m\u001b[0m\n\u001b[1;32m--> 101\u001b[1;33m         \u001b[0mbbg_session\u001b[0m\u001b[1;33m(\u001b[0m\u001b[1;33m**\u001b[0m\u001b[0mkwargs\u001b[0m\u001b[1;33m)\u001b[0m\u001b[1;33m.\u001b[0m\u001b[0msendRequest\u001b[0m\u001b[1;33m(\u001b[0m\u001b[0mrequest\u001b[0m\u001b[1;33m=\u001b[0m\u001b[0mrequest\u001b[0m\u001b[1;33m)\u001b[0m\u001b[1;33m\u001b[0m\u001b[1;33m\u001b[0m\u001b[0m\n\u001b[0m\u001b[0;32m    102\u001b[0m     \u001b[1;32mexcept\u001b[0m \u001b[0mblpapi\u001b[0m\u001b[1;33m.\u001b[0m\u001b[0mInvalidStateException\u001b[0m \u001b[1;32mas\u001b[0m \u001b[0me\u001b[0m\u001b[1;33m:\u001b[0m\u001b[1;33m\u001b[0m\u001b[1;33m\u001b[0m\u001b[0m\n",
      "\u001b[1;32mC:\\ProgramData\\Anaconda3\\lib\\site-packages\\blpapi\\session.py\u001b[0m in \u001b[0;36msendRequest\u001b[1;34m(self, request, identity, correlationId, eventQueue, requestLabel)\u001b[0m\n\u001b[0;32m    463\u001b[0m             len(requestLabel))\n\u001b[1;32m--> 464\u001b[1;33m         \u001b[0m_ExceptionUtil\u001b[0m\u001b[1;33m.\u001b[0m\u001b[0mraiseOnError\u001b[0m\u001b[1;33m(\u001b[0m\u001b[0mres\u001b[0m\u001b[1;33m)\u001b[0m\u001b[1;33m\u001b[0m\u001b[1;33m\u001b[0m\u001b[0m\n\u001b[0m\u001b[0;32m    465\u001b[0m         \u001b[1;32mif\u001b[0m \u001b[0meventQueue\u001b[0m \u001b[1;32mis\u001b[0m \u001b[1;32mnot\u001b[0m \u001b[1;32mNone\u001b[0m\u001b[1;33m:\u001b[0m\u001b[1;33m\u001b[0m\u001b[1;33m\u001b[0m\u001b[0m\n",
      "\u001b[1;32mC:\\ProgramData\\Anaconda3\\lib\\site-packages\\blpapi\\exception.py\u001b[0m in \u001b[0;36mraiseOnError\u001b[1;34m(errorCode, description)\u001b[0m\n\u001b[0;32m    154\u001b[0m         \u001b[1;32mif\u001b[0m \u001b[0merrorCode\u001b[0m\u001b[1;33m:\u001b[0m\u001b[1;33m\u001b[0m\u001b[1;33m\u001b[0m\u001b[0m\n\u001b[1;32m--> 155\u001b[1;33m             \u001b[0m_ExceptionUtil\u001b[0m\u001b[1;33m.\u001b[0m\u001b[0mraiseException\u001b[0m\u001b[1;33m(\u001b[0m\u001b[0merrorCode\u001b[0m\u001b[1;33m,\u001b[0m \u001b[0mdescription\u001b[0m\u001b[1;33m)\u001b[0m\u001b[1;33m\u001b[0m\u001b[1;33m\u001b[0m\u001b[0m\n\u001b[0m\u001b[0;32m    156\u001b[0m \u001b[1;33m\u001b[0m\u001b[0m\n",
      "\u001b[1;32mC:\\ProgramData\\Anaconda3\\lib\\site-packages\\blpapi\\exception.py\u001b[0m in \u001b[0;36mraiseException\u001b[1;34m(errorCode, description)\u001b[0m\n\u001b[0;32m    146\u001b[0m         \u001b[0merrorClass\u001b[0m \u001b[1;33m=\u001b[0m \u001b[0m_ExceptionUtil\u001b[0m\u001b[1;33m.\u001b[0m\u001b[0m__getErrorClass\u001b[0m\u001b[1;33m(\u001b[0m\u001b[0merrorCode\u001b[0m\u001b[1;33m)\u001b[0m\u001b[1;33m\u001b[0m\u001b[1;33m\u001b[0m\u001b[0m\n\u001b[1;32m--> 147\u001b[1;33m         \u001b[1;32mraise\u001b[0m \u001b[0merrorClass\u001b[0m\u001b[1;33m(\u001b[0m\u001b[0mdescription\u001b[0m\u001b[1;33m,\u001b[0m \u001b[0merrorCode\u001b[0m\u001b[1;33m)\u001b[0m\u001b[1;33m\u001b[0m\u001b[1;33m\u001b[0m\u001b[0m\n\u001b[0m\u001b[0;32m    148\u001b[0m \u001b[1;33m\u001b[0m\u001b[0m\n",
      "\u001b[1;31mInvalidStateException\u001b[0m: Session Not Started (0x00010009)",
      "\nDuring handling of the above exception, another exception occurred:\n",
      "\u001b[1;31mConnectionError\u001b[0m                           Traceback (most recent call last)",
      "\u001b[1;32m<ipython-input-391-da7767258a51>\u001b[0m in \u001b[0;36m<module>\u001b[1;34m\u001b[0m\n\u001b[0;32m     10\u001b[0m     \u001b[0mdailybeta\u001b[0m\u001b[1;33m=\u001b[0m\u001b[0mpd\u001b[0m\u001b[1;33m.\u001b[0m\u001b[0mDataFrame\u001b[0m\u001b[1;33m(\u001b[0m\u001b[0mcolumns\u001b[0m\u001b[1;33m=\u001b[0m\u001b[1;33m[\u001b[0m\u001b[1;34m'N'\u001b[0m\u001b[1;33m,\u001b[0m\u001b[1;34m'P'\u001b[0m\u001b[1;33m,\u001b[0m\u001b[1;34m'mneg'\u001b[0m\u001b[1;33m,\u001b[0m\u001b[1;34m'mpos'\u001b[0m\u001b[1;33m,\u001b[0m\u001b[1;34m'normal'\u001b[0m\u001b[1;33m]\u001b[0m\u001b[1;33m)\u001b[0m\u001b[1;33m\u001b[0m\u001b[1;33m\u001b[0m\u001b[0m\n\u001b[0;32m     11\u001b[0m     \u001b[1;32mfor\u001b[0m \u001b[0mday\u001b[0m \u001b[1;32min\u001b[0m \u001b[0mdays\u001b[0m\u001b[1;33m:\u001b[0m\u001b[1;33m\u001b[0m\u001b[1;33m\u001b[0m\u001b[0m\n\u001b[1;32m---> 12\u001b[1;33m         \u001b[0masset\u001b[0m\u001b[1;33m=\u001b[0m\u001b[0mblp\u001b[0m\u001b[1;33m.\u001b[0m\u001b[0mbdib\u001b[0m\u001b[1;33m(\u001b[0m\u001b[0mticker\u001b[0m\u001b[1;33m=\u001b[0m\u001b[0msym\u001b[0m\u001b[1;33m,\u001b[0m\u001b[0mdt\u001b[0m\u001b[1;33m=\u001b[0m\u001b[0mday\u001b[0m\u001b[1;33m,\u001b[0m\u001b[0minterval\u001b[0m\u001b[1;33m=\u001b[0m\u001b[1;36m15\u001b[0m\u001b[1;33m,\u001b[0m\u001b[0mref\u001b[0m\u001b[1;33m=\u001b[0m\u001b[1;34m'US'\u001b[0m\u001b[1;33m)\u001b[0m\u001b[1;33m\u001b[0m\u001b[1;33m\u001b[0m\u001b[0m\n\u001b[0m\u001b[0;32m     13\u001b[0m         \u001b[0mmarket\u001b[0m\u001b[1;33m=\u001b[0m\u001b[0mblp\u001b[0m\u001b[1;33m.\u001b[0m\u001b[0mbdib\u001b[0m\u001b[1;33m(\u001b[0m\u001b[0mticker\u001b[0m\u001b[1;33m=\u001b[0m\u001b[1;34m'SPX Index'\u001b[0m\u001b[1;33m,\u001b[0m\u001b[0mdt\u001b[0m\u001b[1;33m=\u001b[0m\u001b[0mday\u001b[0m\u001b[1;33m,\u001b[0m\u001b[0minterval\u001b[0m\u001b[1;33m=\u001b[0m\u001b[1;36m15\u001b[0m\u001b[1;33m,\u001b[0m\u001b[0mref\u001b[0m\u001b[1;33m=\u001b[0m\u001b[1;34m'US'\u001b[0m\u001b[1;33m)\u001b[0m\u001b[1;33m\u001b[0m\u001b[1;33m\u001b[0m\u001b[0m\n\u001b[0;32m     14\u001b[0m         \u001b[1;32mif\u001b[0m\u001b[1;33m(\u001b[0m \u001b[1;32mnot\u001b[0m \u001b[0masset\u001b[0m\u001b[1;33m.\u001b[0m\u001b[0mempty\u001b[0m \u001b[1;32mand\u001b[0m \u001b[1;32mnot\u001b[0m \u001b[0mmarket\u001b[0m\u001b[1;33m.\u001b[0m\u001b[0mempty\u001b[0m\u001b[1;33m)\u001b[0m\u001b[1;33m:\u001b[0m \u001b[1;31m#To account for day light saving not included in business day or any error\u001b[0m\u001b[1;33m\u001b[0m\u001b[1;33m\u001b[0m\u001b[0m\n",
      "\u001b[1;32mC:\\ProgramData\\Anaconda3\\lib\\site-packages\\xbbg\\blp.py\u001b[0m in \u001b[0;36mbdib\u001b[1;34m(ticker, dt, session, typ, **kwargs)\u001b[0m\n\u001b[0;32m    248\u001b[0m \u001b[1;33m\u001b[0m\u001b[0m\n\u001b[0;32m    249\u001b[0m     \u001b[0mlogger\u001b[0m\u001b[1;33m.\u001b[0m\u001b[0mdebug\u001b[0m\u001b[1;33m(\u001b[0m\u001b[1;34mf'Sending request to Bloomberg ...\\n{request}'\u001b[0m\u001b[1;33m)\u001b[0m\u001b[1;33m\u001b[0m\u001b[1;33m\u001b[0m\u001b[0m\n\u001b[1;32m--> 250\u001b[1;33m     \u001b[0mconn\u001b[0m\u001b[1;33m.\u001b[0m\u001b[0msend_request\u001b[0m\u001b[1;33m(\u001b[0m\u001b[0mrequest\u001b[0m\u001b[1;33m=\u001b[0m\u001b[0mrequest\u001b[0m\u001b[1;33m,\u001b[0m \u001b[1;33m**\u001b[0m\u001b[0mkwargs\u001b[0m\u001b[1;33m)\u001b[0m\u001b[1;33m\u001b[0m\u001b[1;33m\u001b[0m\u001b[0m\n\u001b[0m\u001b[0;32m    251\u001b[0m \u001b[1;33m\u001b[0m\u001b[0m\n\u001b[0;32m    252\u001b[0m     \u001b[0mres\u001b[0m \u001b[1;33m=\u001b[0m \u001b[0mpd\u001b[0m\u001b[1;33m.\u001b[0m\u001b[0mDataFrame\u001b[0m\u001b[1;33m(\u001b[0m\u001b[0mprocess\u001b[0m\u001b[1;33m.\u001b[0m\u001b[0mrec_events\u001b[0m\u001b[1;33m(\u001b[0m\u001b[0mfunc\u001b[0m\u001b[1;33m=\u001b[0m\u001b[0mprocess\u001b[0m\u001b[1;33m.\u001b[0m\u001b[0mprocess_bar\u001b[0m\u001b[1;33m,\u001b[0m \u001b[1;33m**\u001b[0m\u001b[0mkwargs\u001b[0m\u001b[1;33m)\u001b[0m\u001b[1;33m)\u001b[0m\u001b[1;33m\u001b[0m\u001b[1;33m\u001b[0m\u001b[0m\n",
      "\u001b[1;32mC:\\ProgramData\\Anaconda3\\lib\\site-packages\\xbbg\\core\\conn.py\u001b[0m in \u001b[0;36msend_request\u001b[1;34m(request, **kwargs)\u001b[0m\n\u001b[0;32m    109\u001b[0m \u001b[1;33m\u001b[0m\u001b[0m\n\u001b[0;32m    110\u001b[0m         \u001b[1;31m# No error handler for 2nd trial\u001b[0m\u001b[1;33m\u001b[0m\u001b[1;33m\u001b[0m\u001b[1;33m\u001b[0m\u001b[0m\n\u001b[1;32m--> 111\u001b[1;33m         \u001b[0mbbg_session\u001b[0m\u001b[1;33m(\u001b[0m\u001b[1;33m**\u001b[0m\u001b[0mkwargs\u001b[0m\u001b[1;33m)\u001b[0m\u001b[1;33m.\u001b[0m\u001b[0msendRequest\u001b[0m\u001b[1;33m(\u001b[0m\u001b[0mrequest\u001b[0m\u001b[1;33m=\u001b[0m\u001b[0mrequest\u001b[0m\u001b[1;33m)\u001b[0m\u001b[1;33m\u001b[0m\u001b[1;33m\u001b[0m\u001b[0m\n\u001b[0m",
      "\u001b[1;32mC:\\ProgramData\\Anaconda3\\lib\\site-packages\\xbbg\\core\\conn.py\u001b[0m in \u001b[0;36mbbg_session\u001b[1;34m(**kwargs)\u001b[0m\n\u001b[0;32m     44\u001b[0m \u001b[1;33m\u001b[0m\u001b[0m\n\u001b[0;32m     45\u001b[0m     \u001b[1;32mif\u001b[0m \u001b[0mcon_sym\u001b[0m \u001b[1;32mnot\u001b[0m \u001b[1;32min\u001b[0m \u001b[0mglobals\u001b[0m\u001b[1;33m(\u001b[0m\u001b[1;33m)\u001b[0m\u001b[1;33m:\u001b[0m\u001b[1;33m\u001b[0m\u001b[1;33m\u001b[0m\u001b[0m\n\u001b[1;32m---> 46\u001b[1;33m         \u001b[0mglobals\u001b[0m\u001b[1;33m(\u001b[0m\u001b[1;33m)\u001b[0m\u001b[1;33m[\u001b[0m\u001b[0mcon_sym\u001b[0m\u001b[1;33m]\u001b[0m \u001b[1;33m=\u001b[0m \u001b[0mconnect_bbg\u001b[0m\u001b[1;33m(\u001b[0m\u001b[1;33m**\u001b[0m\u001b[0mkwargs\u001b[0m\u001b[1;33m)\u001b[0m\u001b[1;33m\u001b[0m\u001b[1;33m\u001b[0m\u001b[0m\n\u001b[0m\u001b[0;32m     47\u001b[0m \u001b[1;33m\u001b[0m\u001b[0m\n\u001b[0;32m     48\u001b[0m     \u001b[1;32mreturn\u001b[0m \u001b[0mglobals\u001b[0m\u001b[1;33m(\u001b[0m\u001b[1;33m)\u001b[0m\u001b[1;33m[\u001b[0m\u001b[0mcon_sym\u001b[0m\u001b[1;33m]\u001b[0m\u001b[1;33m\u001b[0m\u001b[1;33m\u001b[0m\u001b[0m\n",
      "\u001b[1;32mC:\\ProgramData\\Anaconda3\\lib\\site-packages\\xbbg\\core\\conn.py\u001b[0m in \u001b[0;36mconnect_bbg\u001b[1;34m(**kwargs)\u001b[0m\n\u001b[0;32m     21\u001b[0m     \u001b[0mlogger\u001b[0m\u001b[1;33m.\u001b[0m\u001b[0mdebug\u001b[0m\u001b[1;33m(\u001b[0m\u001b[1;34m'Connecting to Bloomberg ...'\u001b[0m\u001b[1;33m)\u001b[0m\u001b[1;33m\u001b[0m\u001b[1;33m\u001b[0m\u001b[0m\n\u001b[0;32m     22\u001b[0m     \u001b[1;32mif\u001b[0m \u001b[0msession\u001b[0m\u001b[1;33m.\u001b[0m\u001b[0mstart\u001b[0m\u001b[1;33m(\u001b[0m\u001b[1;33m)\u001b[0m\u001b[1;33m:\u001b[0m \u001b[1;32mreturn\u001b[0m \u001b[0msession\u001b[0m\u001b[1;33m\u001b[0m\u001b[1;33m\u001b[0m\u001b[0m\n\u001b[1;32m---> 23\u001b[1;33m     \u001b[1;32melse\u001b[0m\u001b[1;33m:\u001b[0m \u001b[1;32mraise\u001b[0m \u001b[0mConnectionError\u001b[0m\u001b[1;33m(\u001b[0m\u001b[1;34m'Cannot connect to Bloomberg'\u001b[0m\u001b[1;33m)\u001b[0m\u001b[1;33m\u001b[0m\u001b[1;33m\u001b[0m\u001b[0m\n\u001b[0m\u001b[0;32m     24\u001b[0m \u001b[1;33m\u001b[0m\u001b[0m\n\u001b[0;32m     25\u001b[0m \u001b[1;33m\u001b[0m\u001b[0m\n",
      "\u001b[1;31mConnectionError\u001b[0m: Cannot connect to Bloomberg"
     ]
    }
   ],
   "source": [
    "betaP=pd.DataFrame()\n",
    "betaN=pd.DataFrame()\n",
    "betamneg=pd.DataFrame()\n",
    "betampos=pd.DataFrame()\n",
    "betanormal=pd.DataFrame()\n",
    "csk=pd.DataFrame()\n",
    "ckt=pd.DataFrame()\n",
    "#asset1 daily\n",
    "\n",
    "days=pd.bdate_range('2020-05-25','2020-10-06')#business day\n",
    "for sym in sp500equity:\n",
    "    dailybeta=pd.DataFrame(columns=['N','P','mneg','mpos','normal','csk','ckt'])\n",
    "    for day in days:\n",
    "        asset=blp.bdib(ticker=sym,dt=day,interval=15,ref='US')\n",
    "        market=blp.bdib(ticker='SPX Index',dt=day,interval=15,ref='US')\n",
    "        if( not asset.empty and not market.empty): #To account for day light saving not included in business day or any error\n",
    "            asset.columns=asset.columns.droplevel()\n",
    "            market.columns=market.columns.droplevel()\n",
    "            asset['change']=asset['close'].pct_change()\n",
    "            asset['rpos']=asset['change'].apply(lambda x: x if x>0 else 0)\n",
    "            asset['rneg']=asset['change'].apply(lambda x: x if x<0 else 0)\n",
    "            market['ret']=market['close'].pct_change()   \n",
    "            market['fpos']=market['ret'].apply(lambda x: x if x>0 else 0)\n",
    "            market['fneg']=market['ret'].apply(lambda x: x if x<0 else 0)\n",
    "            asset.dropna(inplace=True)\n",
    "            market.dropna(inplace=True)\n",
    "            #=================BETA Calculation===============\n",
    "            N=betacal(asset['rneg'],market['fneg'],market['ret'])\n",
    "            P=betacal(asset['rpos'],market['fpos'],market['ret'])\n",
    "            mneg=-betacal(asset['rpos'],market['fneg'],market['ret'])\n",
    "            mpos=-betacal(asset['rneg'],market['fpos'],market['ret'])\n",
    "            normal=N+P-mneg-mpos\n",
    "            csk1=CSK(asset['change'],market['ret'])\n",
    "            ckt1=CKT(asset['change'],market['ret'])\n",
    "            dailybeta.loc[len(dailybeta.index)+1]=[N,P,mneg,mpos,normal,csk1,ckt1]\n",
    "    betaN=pd.concat([betaN,dailybeta['N']],axis=1)\n",
    "    betaP=pd.concat([betaP,dailybeta['P']],axis=1)\n",
    "    betamneg=pd.concat([betamneg,dailybeta['mneg']],axis=1)\n",
    "    betampos=pd.concat([betampos,dailybeta['mpos']],axis=1)\n",
    "    betanormal=pd.concat([betanormal,dailybeta['normal']],axis=1)\n",
    "    csk=pd.concat([csk,dailybeta['csk']],axis=1)\n",
    "    ckt=pd.concat([ckt,dailybeta['ckt']],axis=1)\n",
    "    \n",
    "betaP.to_csv('betaP.csv')\n",
    "betaN.to_csv('betaN.csv')\n",
    "betamneg.to_csv('betaMNEG.csv')\n",
    "betampos.to_csv('betampos.csv')\n",
    "betanormal.to_csv('betanormal.csv')\n",
    "csk.to_csv('csk.csv')\n",
    "ckt.to_csv('ckt.csv')\n"
   ]
  },
  {
   "cell_type": "code",
   "execution_count": 663,
   "metadata": {
    "collapsed": true
   },
   "outputs": [
    {
     "ename": "ConnectionError",
     "evalue": "Cannot connect to Bloomberg",
     "output_type": "error",
     "traceback": [
      "\u001b[1;31m---------------------------------------------------------------------------\u001b[0m",
      "\u001b[1;31mConnectionError\u001b[0m                           Traceback (most recent call last)",
      "\u001b[1;32m<ipython-input-663-d6092a5c3dc9>\u001b[0m in \u001b[0;36m<module>\u001b[1;34m\u001b[0m\n\u001b[0;32m      8\u001b[0m     \u001b[0mdailybeta\u001b[0m\u001b[1;33m=\u001b[0m\u001b[0mpd\u001b[0m\u001b[1;33m.\u001b[0m\u001b[0mDataFrame\u001b[0m\u001b[1;33m(\u001b[0m\u001b[0mcolumns\u001b[0m\u001b[1;33m=\u001b[0m\u001b[1;33m[\u001b[0m\u001b[1;34m'csk'\u001b[0m\u001b[1;33m,\u001b[0m\u001b[1;34m'ckt'\u001b[0m\u001b[1;33m]\u001b[0m\u001b[1;33m)\u001b[0m\u001b[1;33m\u001b[0m\u001b[1;33m\u001b[0m\u001b[0m\n\u001b[0;32m      9\u001b[0m     \u001b[1;32mfor\u001b[0m \u001b[0mday\u001b[0m \u001b[1;32min\u001b[0m \u001b[0mdays\u001b[0m\u001b[1;33m:\u001b[0m\u001b[1;33m\u001b[0m\u001b[1;33m\u001b[0m\u001b[0m\n\u001b[1;32m---> 10\u001b[1;33m         \u001b[0masset\u001b[0m\u001b[1;33m=\u001b[0m\u001b[0mblp\u001b[0m\u001b[1;33m.\u001b[0m\u001b[0mbdib\u001b[0m\u001b[1;33m(\u001b[0m\u001b[0mticker\u001b[0m\u001b[1;33m=\u001b[0m\u001b[0msym\u001b[0m\u001b[1;33m,\u001b[0m\u001b[0mdt\u001b[0m\u001b[1;33m=\u001b[0m\u001b[0mday\u001b[0m\u001b[1;33m,\u001b[0m\u001b[0minterval\u001b[0m\u001b[1;33m=\u001b[0m\u001b[1;36m15\u001b[0m\u001b[1;33m,\u001b[0m\u001b[0mref\u001b[0m\u001b[1;33m=\u001b[0m\u001b[1;34m'US'\u001b[0m\u001b[1;33m)\u001b[0m\u001b[1;33m\u001b[0m\u001b[1;33m\u001b[0m\u001b[0m\n\u001b[0m\u001b[0;32m     11\u001b[0m         \u001b[0mmarket\u001b[0m\u001b[1;33m=\u001b[0m\u001b[0mblp\u001b[0m\u001b[1;33m.\u001b[0m\u001b[0mbdib\u001b[0m\u001b[1;33m(\u001b[0m\u001b[0mticker\u001b[0m\u001b[1;33m=\u001b[0m\u001b[1;34m'SPX Index'\u001b[0m\u001b[1;33m,\u001b[0m\u001b[0mdt\u001b[0m\u001b[1;33m=\u001b[0m\u001b[0mday\u001b[0m\u001b[1;33m,\u001b[0m\u001b[0minterval\u001b[0m\u001b[1;33m=\u001b[0m\u001b[1;36m15\u001b[0m\u001b[1;33m,\u001b[0m\u001b[0mref\u001b[0m\u001b[1;33m=\u001b[0m\u001b[1;34m'US'\u001b[0m\u001b[1;33m)\u001b[0m\u001b[1;33m\u001b[0m\u001b[1;33m\u001b[0m\u001b[0m\n\u001b[0;32m     12\u001b[0m         \u001b[1;32mif\u001b[0m\u001b[1;33m(\u001b[0m \u001b[1;32mnot\u001b[0m \u001b[0masset\u001b[0m\u001b[1;33m.\u001b[0m\u001b[0mempty\u001b[0m \u001b[1;32mand\u001b[0m \u001b[1;32mnot\u001b[0m \u001b[0mmarket\u001b[0m\u001b[1;33m.\u001b[0m\u001b[0mempty\u001b[0m\u001b[1;33m)\u001b[0m\u001b[1;33m:\u001b[0m \u001b[1;31m#To account for day light saving not included in business day or any error\u001b[0m\u001b[1;33m\u001b[0m\u001b[1;33m\u001b[0m\u001b[0m\n",
      "\u001b[1;32mC:\\ProgramData\\Anaconda3\\lib\\site-packages\\xbbg\\blp.py\u001b[0m in \u001b[0;36mbdib\u001b[1;34m(ticker, dt, session, typ, **kwargs)\u001b[0m\n\u001b[0;32m    238\u001b[0m     \u001b[0mrequest\u001b[0m \u001b[1;33m=\u001b[0m \u001b[0mservice\u001b[0m\u001b[1;33m.\u001b[0m\u001b[0mcreateRequest\u001b[0m\u001b[1;33m(\u001b[0m\u001b[1;34m'IntradayBarRequest'\u001b[0m\u001b[1;33m)\u001b[0m\u001b[1;33m\u001b[0m\u001b[1;33m\u001b[0m\u001b[0m\n\u001b[0;32m    239\u001b[0m \u001b[1;33m\u001b[0m\u001b[0m\n\u001b[1;32m--> 240\u001b[1;33m     \u001b[1;32mwhile\u001b[0m \u001b[0mconn\u001b[0m\u001b[1;33m.\u001b[0m\u001b[0mbbg_session\u001b[0m\u001b[1;33m(\u001b[0m\u001b[1;33m**\u001b[0m\u001b[0mkwargs\u001b[0m\u001b[1;33m)\u001b[0m\u001b[1;33m.\u001b[0m\u001b[0mtryNextEvent\u001b[0m\u001b[1;33m(\u001b[0m\u001b[1;33m)\u001b[0m\u001b[1;33m:\u001b[0m \u001b[1;32mpass\u001b[0m\u001b[1;33m\u001b[0m\u001b[1;33m\u001b[0m\u001b[0m\n\u001b[0m\u001b[0;32m    241\u001b[0m     \u001b[0mrequest\u001b[0m\u001b[1;33m.\u001b[0m\u001b[0mset\u001b[0m\u001b[1;33m(\u001b[0m\u001b[1;34m'security'\u001b[0m\u001b[1;33m,\u001b[0m \u001b[0mticker\u001b[0m\u001b[1;33m)\u001b[0m\u001b[1;33m\u001b[0m\u001b[1;33m\u001b[0m\u001b[0m\n\u001b[0;32m    242\u001b[0m     \u001b[0mrequest\u001b[0m\u001b[1;33m.\u001b[0m\u001b[0mset\u001b[0m\u001b[1;33m(\u001b[0m\u001b[1;34m'eventType'\u001b[0m\u001b[1;33m,\u001b[0m \u001b[0mtyp\u001b[0m\u001b[1;33m)\u001b[0m\u001b[1;33m\u001b[0m\u001b[1;33m\u001b[0m\u001b[0m\n",
      "\u001b[1;32mC:\\ProgramData\\Anaconda3\\lib\\site-packages\\xbbg\\core\\conn.py\u001b[0m in \u001b[0;36mbbg_session\u001b[1;34m(**kwargs)\u001b[0m\n\u001b[0;32m     44\u001b[0m \u001b[1;33m\u001b[0m\u001b[0m\n\u001b[0;32m     45\u001b[0m     \u001b[1;32mif\u001b[0m \u001b[0mcon_sym\u001b[0m \u001b[1;32mnot\u001b[0m \u001b[1;32min\u001b[0m \u001b[0mglobals\u001b[0m\u001b[1;33m(\u001b[0m\u001b[1;33m)\u001b[0m\u001b[1;33m:\u001b[0m\u001b[1;33m\u001b[0m\u001b[1;33m\u001b[0m\u001b[0m\n\u001b[1;32m---> 46\u001b[1;33m         \u001b[0mglobals\u001b[0m\u001b[1;33m(\u001b[0m\u001b[1;33m)\u001b[0m\u001b[1;33m[\u001b[0m\u001b[0mcon_sym\u001b[0m\u001b[1;33m]\u001b[0m \u001b[1;33m=\u001b[0m \u001b[0mconnect_bbg\u001b[0m\u001b[1;33m(\u001b[0m\u001b[1;33m**\u001b[0m\u001b[0mkwargs\u001b[0m\u001b[1;33m)\u001b[0m\u001b[1;33m\u001b[0m\u001b[1;33m\u001b[0m\u001b[0m\n\u001b[0m\u001b[0;32m     47\u001b[0m \u001b[1;33m\u001b[0m\u001b[0m\n\u001b[0;32m     48\u001b[0m     \u001b[1;32mreturn\u001b[0m \u001b[0mglobals\u001b[0m\u001b[1;33m(\u001b[0m\u001b[1;33m)\u001b[0m\u001b[1;33m[\u001b[0m\u001b[0mcon_sym\u001b[0m\u001b[1;33m]\u001b[0m\u001b[1;33m\u001b[0m\u001b[1;33m\u001b[0m\u001b[0m\n",
      "\u001b[1;32mC:\\ProgramData\\Anaconda3\\lib\\site-packages\\xbbg\\core\\conn.py\u001b[0m in \u001b[0;36mconnect_bbg\u001b[1;34m(**kwargs)\u001b[0m\n\u001b[0;32m     21\u001b[0m     \u001b[0mlogger\u001b[0m\u001b[1;33m.\u001b[0m\u001b[0mdebug\u001b[0m\u001b[1;33m(\u001b[0m\u001b[1;34m'Connecting to Bloomberg ...'\u001b[0m\u001b[1;33m)\u001b[0m\u001b[1;33m\u001b[0m\u001b[1;33m\u001b[0m\u001b[0m\n\u001b[0;32m     22\u001b[0m     \u001b[1;32mif\u001b[0m \u001b[0msession\u001b[0m\u001b[1;33m.\u001b[0m\u001b[0mstart\u001b[0m\u001b[1;33m(\u001b[0m\u001b[1;33m)\u001b[0m\u001b[1;33m:\u001b[0m \u001b[1;32mreturn\u001b[0m \u001b[0msession\u001b[0m\u001b[1;33m\u001b[0m\u001b[1;33m\u001b[0m\u001b[0m\n\u001b[1;32m---> 23\u001b[1;33m     \u001b[1;32melse\u001b[0m\u001b[1;33m:\u001b[0m \u001b[1;32mraise\u001b[0m \u001b[0mConnectionError\u001b[0m\u001b[1;33m(\u001b[0m\u001b[1;34m'Cannot connect to Bloomberg'\u001b[0m\u001b[1;33m)\u001b[0m\u001b[1;33m\u001b[0m\u001b[1;33m\u001b[0m\u001b[0m\n\u001b[0m\u001b[0;32m     24\u001b[0m \u001b[1;33m\u001b[0m\u001b[0m\n\u001b[0;32m     25\u001b[0m \u001b[1;33m\u001b[0m\u001b[0m\n",
      "\u001b[1;31mConnectionError\u001b[0m: Cannot connect to Bloomberg"
     ]
    }
   ],
   "source": [
    "##Extract Csk and Ckt\n",
    "csk=pd.DataFrame()\n",
    "ckt=pd.DataFrame()\n",
    "#asset1 daily\n",
    "\n",
    "days=pd.bdate_range('2020-05-25','2020-10-06')#business day\n",
    "for sym in sp500equity:\n",
    "    dailybeta=pd.DataFrame(columns=['csk','ckt'])\n",
    "    for day in days:\n",
    "        asset=blp.bdib(ticker=sym,dt=day,interval=15,ref='US')\n",
    "        market=blp.bdib(ticker='SPX Index',dt=day,interval=15,ref='US')\n",
    "        if( not asset.empty and not market.empty): #To account for day light saving not included in business day or any error\n",
    "            asset.columns=asset.columns.droplevel()\n",
    "            market.columns=market.columns.droplevel()\n",
    "            asset['change']=asset['close'].pct_change()\n",
    "            asset['rpos']=asset['change'].apply(lambda x: x if x>0 else 0)\n",
    "            asset['rneg']=asset['change'].apply(lambda x: x if x<0 else 0)\n",
    "            market['ret']=market['close'].pct_change()   \n",
    "            market['fpos']=market['ret'].apply(lambda x: x if x>0 else 0)\n",
    "            market['fneg']=market['ret'].apply(lambda x: x if x<0 else 0)\n",
    "            asset.dropna(inplace=True)\n",
    "            market.dropna(inplace=True)\n",
    "            #=================CSK and CKT Calculation===============\n",
    "            csk1=CSK(asset['change'],market['ret'])\n",
    "            ckt1=CKT(asset['change'],market['ret'])\n",
    "            dailybeta.loc[len(dailybeta.index)+1]=[csk1,ckt1]\n",
    "    csk=pd.concat([csk,dailybeta['csk']],axis=1)\n",
    "    ckt=pd.concat([ckt,dailybeta['ckt']],axis=1)\n"
   ]
  },
  {
   "cell_type": "markdown",
   "metadata": {},
   "source": [
    "### Main Frame [Get beta daily directly from CSV] For AU market."
   ]
  },
  {
   "cell_type": "code",
   "execution_count": 1982,
   "metadata": {},
   "outputs": [],
   "source": [
    "equityAS=pd.read_csv(\"C:\\\\Users\\\\raymond.widjaja\\\\Desktop\\\\Pairs Trading\\\\15_min_clean_ASX200.csv\")\n",
    "#equityAS=equityAS.iloc[19:,:]##Start from 26 may 2020"
   ]
  },
  {
   "cell_type": "markdown",
   "metadata": {},
   "source": [
    "### Preprocess Data Extracted (semi beta only)"
   ]
  },
  {
   "cell_type": "markdown",
   "metadata": {},
   "source": [
    "### US data"
   ]
  },
  {
   "cell_type": "code",
   "execution_count": 695,
   "metadata": {},
   "outputs": [],
   "source": [
    "#get data from CSV for US \n",
    "#dr=blp.bds(tickers='SPX Index', flds=['INDX_MEMBERS'])\n",
    "#data=dr['member_ticker_and_exchange_code'].reset_index(drop=True).tolist()\n",
    "#sp500equity=[df +' Equity' for df in data]\n",
    "beta1=pd.read_csv('C:\\\\Users\\\\raymond.widjaja\\\\Desktop\\\\SemiBetas Data\\\\betaMNEG.csv')\n",
    "beta2=pd.read_csv('C:\\\\Users\\\\raymond.widjaja\\\\Desktop\\\\SemiBetas Data\\\\betampos.csv')\n",
    "beta3=pd.read_csv('C:\\\\Users\\\\raymond.widjaja\\\\Desktop\\\\SemiBetas Data\\\\betaN.csv')\n",
    "beta4=pd.read_csv('C:\\\\Users\\\\raymond.widjaja\\\\Desktop\\\\SemiBetas Data\\\\betaP.csv')\n",
    "betaCAPM=pd.read_csv('C:\\\\Users\\\\raymond.widjaja\\\\Desktop\\\\SemiBetas Data\\\\betanormal.csv')\n",
    "dailydf=pd.read_csv('C:\\\\Users\\\\raymond.widjaja\\\\Desktop\\\\SemiBetas Data\\\\SPX500DDailyReturn.csv')\n",
    "#data    : should be used to change the column name "
   ]
  },
  {
   "cell_type": "code",
   "execution_count": 682,
   "metadata": {},
   "outputs": [],
   "source": [
    "data=dailydf.columns[1:].tolist()"
   ]
  },
  {
   "cell_type": "code",
   "execution_count": null,
   "metadata": {},
   "outputs": [],
   "source": []
  },
  {
   "cell_type": "markdown",
   "metadata": {},
   "source": [
    "### AU Data"
   ]
  },
  {
   "cell_type": "code",
   "execution_count": 533,
   "metadata": {},
   "outputs": [],
   "source": [
    "#get data from CSV for AU\n",
    "#dr=blp.bds(tickers='AS51 Index', flds=['INDX_MEMBERS'])\n",
    "#data=dr['member_ticker_and_exchange_code'].reset_index(drop=True).tolist()\n",
    "#sp500equity=[df +' Equity' for df in data]\n",
    "beta1=pd.read_csv('C:\\\\Users\\\\raymond.widjaja\\\\Desktop\\\\SemiBetas Data\\\\betaMNEGASX200.csv')\n",
    "beta2=pd.read_csv('C:\\\\Users\\\\raymond.widjaja\\\\Desktop\\\\SemiBetas Data\\\\betamposASX200.csv')\n",
    "beta3=pd.read_csv('C:\\\\Users\\\\raymond.widjaja\\\\Desktop\\\\SemiBetas Data\\\\betaNASX200.csv')\n",
    "beta4=pd.read_csv('C:\\\\Users\\\\raymond.widjaja\\\\Desktop\\\\SemiBetas Data\\\\betaPASX200.csv')\n",
    "betaCAPM=pd.read_csv('C:\\\\Users\\\\raymond.widjaja\\\\Desktop\\\\SemiBetas Data\\\\betanormalASX200.csv')\n",
    "dailydf=pd.read_csv('C:\\\\Users\\\\raymond.widjaja\\\\Desktop\\\\SemiBetas Data\\\\ASX200DailyReturn.csv')"
   ]
  },
  {
   "cell_type": "code",
   "execution_count": 534,
   "metadata": {},
   "outputs": [],
   "source": [
    "data=dailydf.columns[1:].tolist() #for AU Market normally"
   ]
  },
  {
   "cell_type": "code",
   "execution_count": 696,
   "metadata": {},
   "outputs": [],
   "source": [
    "def update(d):\n",
    "    d.set_index('Unnamed: 0',drop=True,inplace=True) #data 688-5=683\n",
    "    d.rename_axis(index=None,inplace=True)\n",
    "    d.columns=data\n",
    "csvlist=[beta1,beta2,beta3,beta4,betaCAPM,dailydf]\n",
    "for info in csvlist:\n",
    "    update(info)"
   ]
  },
  {
   "cell_type": "code",
   "execution_count": 697,
   "metadata": {
    "scrolled": true
   },
   "outputs": [
    {
     "data": {
      "text/html": [
       "<div>\n",
       "<style scoped>\n",
       "    .dataframe tbody tr th:only-of-type {\n",
       "        vertical-align: middle;\n",
       "    }\n",
       "\n",
       "    .dataframe tbody tr th {\n",
       "        vertical-align: top;\n",
       "    }\n",
       "\n",
       "    .dataframe thead th {\n",
       "        text-align: right;\n",
       "    }\n",
       "</style>\n",
       "<table border=\"1\" class=\"dataframe\">\n",
       "  <thead>\n",
       "    <tr style=\"text-align: right;\">\n",
       "      <th></th>\n",
       "      <th>A UN</th>\n",
       "      <th>AAL UW</th>\n",
       "      <th>AAP UN</th>\n",
       "      <th>AAPL UW</th>\n",
       "      <th>ABBV UN</th>\n",
       "      <th>ABC UN</th>\n",
       "      <th>ABMD UW</th>\n",
       "      <th>ABT UN</th>\n",
       "      <th>ACN UN</th>\n",
       "      <th>ADBE UW</th>\n",
       "      <th>...</th>\n",
       "      <th>XLNX UW</th>\n",
       "      <th>XOM UN</th>\n",
       "      <th>XRAY UW</th>\n",
       "      <th>XRX UN</th>\n",
       "      <th>XYL UN</th>\n",
       "      <th>YUM UN</th>\n",
       "      <th>ZBH UN</th>\n",
       "      <th>ZBRA UW</th>\n",
       "      <th>ZION UW</th>\n",
       "      <th>ZTS UN</th>\n",
       "    </tr>\n",
       "  </thead>\n",
       "  <tbody>\n",
       "    <tr>\n",
       "      <th>2020-05-22 00:00:00</th>\n",
       "      <td>NaN</td>\n",
       "      <td>NaN</td>\n",
       "      <td>NaN</td>\n",
       "      <td>NaN</td>\n",
       "      <td>NaN</td>\n",
       "      <td>NaN</td>\n",
       "      <td>NaN</td>\n",
       "      <td>NaN</td>\n",
       "      <td>NaN</td>\n",
       "      <td>NaN</td>\n",
       "      <td>...</td>\n",
       "      <td>NaN</td>\n",
       "      <td>NaN</td>\n",
       "      <td>NaN</td>\n",
       "      <td>NaN</td>\n",
       "      <td>NaN</td>\n",
       "      <td>NaN</td>\n",
       "      <td>NaN</td>\n",
       "      <td>NaN</td>\n",
       "      <td>NaN</td>\n",
       "      <td>NaN</td>\n",
       "    </tr>\n",
       "    <tr>\n",
       "      <th>2020-05-26 00:00:00</th>\n",
       "      <td>0.013533</td>\n",
       "      <td>0.148454</td>\n",
       "      <td>0.015733</td>\n",
       "      <td>-0.006773</td>\n",
       "      <td>-0.015092</td>\n",
       "      <td>-0.025338</td>\n",
       "      <td>0.014164</td>\n",
       "      <td>-0.021756</td>\n",
       "      <td>0.013887</td>\n",
       "      <td>-0.022400</td>\n",
       "      <td>...</td>\n",
       "      <td>0.020095</td>\n",
       "      <td>0.029372</td>\n",
       "      <td>0.073153</td>\n",
       "      <td>0.026502</td>\n",
       "      <td>0.048698</td>\n",
       "      <td>0.009169</td>\n",
       "      <td>0.027066</td>\n",
       "      <td>0.050998</td>\n",
       "      <td>0.090759</td>\n",
       "      <td>0.002613</td>\n",
       "    </tr>\n",
       "    <tr>\n",
       "      <th>2020-05-27 00:00:00</th>\n",
       "      <td>0.000581</td>\n",
       "      <td>0.075404</td>\n",
       "      <td>0.045213</td>\n",
       "      <td>0.004357</td>\n",
       "      <td>-0.008048</td>\n",
       "      <td>0.028090</td>\n",
       "      <td>-0.006313</td>\n",
       "      <td>0.014305</td>\n",
       "      <td>0.017974</td>\n",
       "      <td>-0.003876</td>\n",
       "      <td>...</td>\n",
       "      <td>0.030680</td>\n",
       "      <td>0.007188</td>\n",
       "      <td>0.054269</td>\n",
       "      <td>0.037866</td>\n",
       "      <td>0.055326</td>\n",
       "      <td>0.024872</td>\n",
       "      <td>0.012624</td>\n",
       "      <td>0.010588</td>\n",
       "      <td>0.065290</td>\n",
       "      <td>0.039785</td>\n",
       "    </tr>\n",
       "    <tr>\n",
       "      <th>2020-05-28 00:00:00</th>\n",
       "      <td>0.005918</td>\n",
       "      <td>-0.083472</td>\n",
       "      <td>-0.023075</td>\n",
       "      <td>0.000440</td>\n",
       "      <td>0.000556</td>\n",
       "      <td>0.011465</td>\n",
       "      <td>0.046207</td>\n",
       "      <td>0.014764</td>\n",
       "      <td>0.008703</td>\n",
       "      <td>0.012421</td>\n",
       "      <td>...</td>\n",
       "      <td>-0.020760</td>\n",
       "      <td>-0.025952</td>\n",
       "      <td>-0.016740</td>\n",
       "      <td>-0.070757</td>\n",
       "      <td>-0.010166</td>\n",
       "      <td>0.006760</td>\n",
       "      <td>-0.002727</td>\n",
       "      <td>-0.004832</td>\n",
       "      <td>-0.030217</td>\n",
       "      <td>0.018210</td>\n",
       "    </tr>\n",
       "    <tr>\n",
       "      <th>2020-05-29 00:00:00</th>\n",
       "      <td>0.016726</td>\n",
       "      <td>-0.043716</td>\n",
       "      <td>0.006357</td>\n",
       "      <td>-0.000980</td>\n",
       "      <td>0.029324</td>\n",
       "      <td>0.009958</td>\n",
       "      <td>0.030088</td>\n",
       "      <td>0.030619</td>\n",
       "      <td>-0.000248</td>\n",
       "      <td>0.017824</td>\n",
       "      <td>...</td>\n",
       "      <td>0.031408</td>\n",
       "      <td>0.009547</td>\n",
       "      <td>-0.010002</td>\n",
       "      <td>-0.055324</td>\n",
       "      <td>-0.026702</td>\n",
       "      <td>-0.012328</td>\n",
       "      <td>-0.012892</td>\n",
       "      <td>0.015150</td>\n",
       "      <td>-0.032775</td>\n",
       "      <td>0.009268</td>\n",
       "    </tr>\n",
       "    <tr>\n",
       "      <th>...</th>\n",
       "      <td>...</td>\n",
       "      <td>...</td>\n",
       "      <td>...</td>\n",
       "      <td>...</td>\n",
       "      <td>...</td>\n",
       "      <td>...</td>\n",
       "      <td>...</td>\n",
       "      <td>...</td>\n",
       "      <td>...</td>\n",
       "      <td>...</td>\n",
       "      <td>...</td>\n",
       "      <td>...</td>\n",
       "      <td>...</td>\n",
       "      <td>...</td>\n",
       "      <td>...</td>\n",
       "      <td>...</td>\n",
       "      <td>...</td>\n",
       "      <td>...</td>\n",
       "      <td>...</td>\n",
       "      <td>...</td>\n",
       "      <td>...</td>\n",
       "    </tr>\n",
       "    <tr>\n",
       "      <th>2020-09-30 00:00:00</th>\n",
       "      <td>0.007184</td>\n",
       "      <td>0.003265</td>\n",
       "      <td>0.011799</td>\n",
       "      <td>0.015076</td>\n",
       "      <td>0.008056</td>\n",
       "      <td>0.007903</td>\n",
       "      <td>0.016883</td>\n",
       "      <td>0.034604</td>\n",
       "      <td>0.008524</td>\n",
       "      <td>0.002248</td>\n",
       "      <td>...</td>\n",
       "      <td>0.005886</td>\n",
       "      <td>0.001459</td>\n",
       "      <td>0.022924</td>\n",
       "      <td>0.016793</td>\n",
       "      <td>0.004178</td>\n",
       "      <td>0.006504</td>\n",
       "      <td>0.020540</td>\n",
       "      <td>-0.024950</td>\n",
       "      <td>0.008630</td>\n",
       "      <td>0.017787</td>\n",
       "    </tr>\n",
       "    <tr>\n",
       "      <th>2020-10-01 00:00:00</th>\n",
       "      <td>0.002774</td>\n",
       "      <td>0.023596</td>\n",
       "      <td>0.008795</td>\n",
       "      <td>0.008462</td>\n",
       "      <td>-0.005138</td>\n",
       "      <td>-0.016096</td>\n",
       "      <td>-0.059951</td>\n",
       "      <td>-0.001746</td>\n",
       "      <td>-0.003584</td>\n",
       "      <td>0.018514</td>\n",
       "      <td>...</td>\n",
       "      <td>0.016021</td>\n",
       "      <td>-0.034955</td>\n",
       "      <td>-0.005031</td>\n",
       "      <td>-0.005328</td>\n",
       "      <td>-0.018545</td>\n",
       "      <td>0.005696</td>\n",
       "      <td>0.008741</td>\n",
       "      <td>0.023845</td>\n",
       "      <td>-0.003422</td>\n",
       "      <td>-0.008103</td>\n",
       "    </tr>\n",
       "    <tr>\n",
       "      <th>2020-10-02 00:00:00</th>\n",
       "      <td>-0.011954</td>\n",
       "      <td>0.033386</td>\n",
       "      <td>0.004198</td>\n",
       "      <td>-0.032280</td>\n",
       "      <td>-0.011705</td>\n",
       "      <td>0.000210</td>\n",
       "      <td>0.005913</td>\n",
       "      <td>-0.019698</td>\n",
       "      <td>-0.012346</td>\n",
       "      <td>-0.041080</td>\n",
       "      <td>...</td>\n",
       "      <td>-0.031347</td>\n",
       "      <td>-0.004528</td>\n",
       "      <td>0.003447</td>\n",
       "      <td>0.020354</td>\n",
       "      <td>0.022650</td>\n",
       "      <td>0.036484</td>\n",
       "      <td>0.002621</td>\n",
       "      <td>0.001277</td>\n",
       "      <td>0.025069</td>\n",
       "      <td>-0.002926</td>\n",
       "    </tr>\n",
       "    <tr>\n",
       "      <th>2020-10-05 00:00:00</th>\n",
       "      <td>0.031097</td>\n",
       "      <td>0.009231</td>\n",
       "      <td>0.002315</td>\n",
       "      <td>0.030791</td>\n",
       "      <td>0.021017</td>\n",
       "      <td>0.010589</td>\n",
       "      <td>0.033207</td>\n",
       "      <td>0.019343</td>\n",
       "      <td>0.004901</td>\n",
       "      <td>0.015616</td>\n",
       "      <td>...</td>\n",
       "      <td>0.020957</td>\n",
       "      <td>0.023044</td>\n",
       "      <td>0.026340</td>\n",
       "      <td>0.030971</td>\n",
       "      <td>0.022385</td>\n",
       "      <td>-0.011348</td>\n",
       "      <td>0.028324</td>\n",
       "      <td>0.035547</td>\n",
       "      <td>0.047906</td>\n",
       "      <td>-0.000611</td>\n",
       "    </tr>\n",
       "    <tr>\n",
       "      <th>2020-10-06 00:00:00</th>\n",
       "      <td>-0.014449</td>\n",
       "      <td>-0.044970</td>\n",
       "      <td>-0.004491</td>\n",
       "      <td>-0.028670</td>\n",
       "      <td>-0.023200</td>\n",
       "      <td>-0.007885</td>\n",
       "      <td>-0.021685</td>\n",
       "      <td>-0.021279</td>\n",
       "      <td>-0.014050</td>\n",
       "      <td>-0.015397</td>\n",
       "      <td>...</td>\n",
       "      <td>-0.007638</td>\n",
       "      <td>-0.010373</td>\n",
       "      <td>-0.015622</td>\n",
       "      <td>0.003564</td>\n",
       "      <td>0.002201</td>\n",
       "      <td>-0.023063</td>\n",
       "      <td>-0.003602</td>\n",
       "      <td>0.007313</td>\n",
       "      <td>-0.012148</td>\n",
       "      <td>-0.011808</td>\n",
       "    </tr>\n",
       "  </tbody>\n",
       "</table>\n",
       "<p>95 rows × 505 columns</p>\n",
       "</div>"
      ],
      "text/plain": [
       "                         A UN    AAL UW    AAP UN   AAPL UW   ABBV UN  \\\n",
       "2020-05-22 00:00:00       NaN       NaN       NaN       NaN       NaN   \n",
       "2020-05-26 00:00:00  0.013533  0.148454  0.015733 -0.006773 -0.015092   \n",
       "2020-05-27 00:00:00  0.000581  0.075404  0.045213  0.004357 -0.008048   \n",
       "2020-05-28 00:00:00  0.005918 -0.083472 -0.023075  0.000440  0.000556   \n",
       "2020-05-29 00:00:00  0.016726 -0.043716  0.006357 -0.000980  0.029324   \n",
       "...                       ...       ...       ...       ...       ...   \n",
       "2020-09-30 00:00:00  0.007184  0.003265  0.011799  0.015076  0.008056   \n",
       "2020-10-01 00:00:00  0.002774  0.023596  0.008795  0.008462 -0.005138   \n",
       "2020-10-02 00:00:00 -0.011954  0.033386  0.004198 -0.032280 -0.011705   \n",
       "2020-10-05 00:00:00  0.031097  0.009231  0.002315  0.030791  0.021017   \n",
       "2020-10-06 00:00:00 -0.014449 -0.044970 -0.004491 -0.028670 -0.023200   \n",
       "\n",
       "                       ABC UN   ABMD UW    ABT UN    ACN UN   ADBE UW  ...  \\\n",
       "2020-05-22 00:00:00       NaN       NaN       NaN       NaN       NaN  ...   \n",
       "2020-05-26 00:00:00 -0.025338  0.014164 -0.021756  0.013887 -0.022400  ...   \n",
       "2020-05-27 00:00:00  0.028090 -0.006313  0.014305  0.017974 -0.003876  ...   \n",
       "2020-05-28 00:00:00  0.011465  0.046207  0.014764  0.008703  0.012421  ...   \n",
       "2020-05-29 00:00:00  0.009958  0.030088  0.030619 -0.000248  0.017824  ...   \n",
       "...                       ...       ...       ...       ...       ...  ...   \n",
       "2020-09-30 00:00:00  0.007903  0.016883  0.034604  0.008524  0.002248  ...   \n",
       "2020-10-01 00:00:00 -0.016096 -0.059951 -0.001746 -0.003584  0.018514  ...   \n",
       "2020-10-02 00:00:00  0.000210  0.005913 -0.019698 -0.012346 -0.041080  ...   \n",
       "2020-10-05 00:00:00  0.010589  0.033207  0.019343  0.004901  0.015616  ...   \n",
       "2020-10-06 00:00:00 -0.007885 -0.021685 -0.021279 -0.014050 -0.015397  ...   \n",
       "\n",
       "                      XLNX UW    XOM UN   XRAY UW    XRX UN    XYL UN  \\\n",
       "2020-05-22 00:00:00       NaN       NaN       NaN       NaN       NaN   \n",
       "2020-05-26 00:00:00  0.020095  0.029372  0.073153  0.026502  0.048698   \n",
       "2020-05-27 00:00:00  0.030680  0.007188  0.054269  0.037866  0.055326   \n",
       "2020-05-28 00:00:00 -0.020760 -0.025952 -0.016740 -0.070757 -0.010166   \n",
       "2020-05-29 00:00:00  0.031408  0.009547 -0.010002 -0.055324 -0.026702   \n",
       "...                       ...       ...       ...       ...       ...   \n",
       "2020-09-30 00:00:00  0.005886  0.001459  0.022924  0.016793  0.004178   \n",
       "2020-10-01 00:00:00  0.016021 -0.034955 -0.005031 -0.005328 -0.018545   \n",
       "2020-10-02 00:00:00 -0.031347 -0.004528  0.003447  0.020354  0.022650   \n",
       "2020-10-05 00:00:00  0.020957  0.023044  0.026340  0.030971  0.022385   \n",
       "2020-10-06 00:00:00 -0.007638 -0.010373 -0.015622  0.003564  0.002201   \n",
       "\n",
       "                       YUM UN    ZBH UN   ZBRA UW   ZION UW    ZTS UN  \n",
       "2020-05-22 00:00:00       NaN       NaN       NaN       NaN       NaN  \n",
       "2020-05-26 00:00:00  0.009169  0.027066  0.050998  0.090759  0.002613  \n",
       "2020-05-27 00:00:00  0.024872  0.012624  0.010588  0.065290  0.039785  \n",
       "2020-05-28 00:00:00  0.006760 -0.002727 -0.004832 -0.030217  0.018210  \n",
       "2020-05-29 00:00:00 -0.012328 -0.012892  0.015150 -0.032775  0.009268  \n",
       "...                       ...       ...       ...       ...       ...  \n",
       "2020-09-30 00:00:00  0.006504  0.020540 -0.024950  0.008630  0.017787  \n",
       "2020-10-01 00:00:00  0.005696  0.008741  0.023845 -0.003422 -0.008103  \n",
       "2020-10-02 00:00:00  0.036484  0.002621  0.001277  0.025069 -0.002926  \n",
       "2020-10-05 00:00:00 -0.011348  0.028324  0.035547  0.047906 -0.000611  \n",
       "2020-10-06 00:00:00 -0.023063 -0.003602  0.007313 -0.012148 -0.011808  \n",
       "\n",
       "[95 rows x 505 columns]"
      ]
     },
     "execution_count": 697,
     "metadata": {},
     "output_type": "execute_result"
    }
   ],
   "source": [
    "dailyret=dailydf.copy()\n",
    "dailyret"
   ]
  },
  {
   "cell_type": "markdown",
   "metadata": {},
   "source": [
    "### Check and Delete missing values ifany "
   ]
  },
  {
   "cell_type": "code",
   "execution_count": 701,
   "metadata": {},
   "outputs": [
    {
     "data": {
      "text/plain": [
       "['AEP UW', 'APA UW', 'VNT UN']"
      ]
     },
     "execution_count": 701,
     "metadata": {},
     "output_type": "execute_result"
    }
   ],
   "source": [
    "#Check Null value in each column \n",
    "dailyret=dailyret.iloc[1:,:] # to remove nan value at first row\n",
    "missingdata=dailyret.columns[dailyret.isnull().sum()>1].tolist()\n",
    "missingdata"
   ]
  },
  {
   "cell_type": "code",
   "execution_count": 699,
   "metadata": {},
   "outputs": [],
   "source": [
    "#Reindex beta make sure length is same for each data \n",
    "dailydf=dailydf.iloc[1:,:] #for USmarket\n",
    "bN=beta3.set_index(dailydf.index)\n",
    "bP=beta4.set_index(dailydf.index)\n",
    "bmneg=beta1.set_index(dailydf.index)\n",
    "bmpos=beta2.set_index(dailydf.index)\n",
    "bnormal=betaCAPM.set_index(dailydf.index)"
   ]
  },
  {
   "cell_type": "code",
   "execution_count": 703,
   "metadata": {},
   "outputs": [
    {
     "data": {
      "text/plain": [
       "['AEP UW', 'APA UW', 'VNT UN', 'NCLH UN']"
      ]
     },
     "execution_count": 703,
     "metadata": {},
     "output_type": "execute_result"
    }
   ],
   "source": [
    "bmneg.columns[bmneg.isnull().sum()>1].tolist()\n",
    "missingdata.append('NCLH UN') #discretionary adding mising data based on the line above US/AU depends\n",
    "missingdata"
   ]
  },
  {
   "cell_type": "code",
   "execution_count": 705,
   "metadata": {},
   "outputs": [],
   "source": [
    "#Delete Column with missing value \n",
    "d1=dailyret.drop(missingdata,axis=1)\n",
    "bN=bN.drop(missingdata,axis=1)\n",
    "bP=bP.drop(missingdata,axis=1)\n",
    "bmneg=bmneg.drop(missingdata,axis=1)\n",
    "bmpos=bmpos.drop(missingdata,axis=1)\n",
    "bnormal=bnormal.drop(missingdata,axis=1)"
   ]
  },
  {
   "cell_type": "code",
   "execution_count": 93,
   "metadata": {},
   "outputs": [],
   "source": [
    "#d1=dailyret.drop(missingdata,axis=1)"
   ]
  },
  {
   "cell_type": "code",
   "execution_count": 715,
   "metadata": {},
   "outputs": [
    {
     "data": {
      "text/plain": [
       "Index([], dtype='object')"
      ]
     },
     "execution_count": 715,
     "metadata": {},
     "output_type": "execute_result"
    }
   ],
   "source": [
    "bmneg.columns[bmneg.isnull().sum()>0]"
   ]
  },
  {
   "cell_type": "code",
   "execution_count": 710,
   "metadata": {},
   "outputs": [],
   "source": [
    "#delete data on 6 oct for all stocks to make sure no more nan value. Do it once only\n",
    "d1=d1.iloc[:-1]\n",
    "bN=bN.iloc[:-1]\n",
    "bP=bP.iloc[:-1]\n",
    "bmneg=bmneg.iloc[:-1]\n",
    "bmpos=bmpos.iloc[:-1]\n",
    "bnormal=bnormal.iloc[:-1]\n"
   ]
  },
  {
   "cell_type": "code",
   "execution_count": 714,
   "metadata": {},
   "outputs": [
    {
     "data": {
      "text/plain": [
       "Index([], dtype='object')"
      ]
     },
     "execution_count": 714,
     "metadata": {},
     "output_type": "execute_result"
    }
   ],
   "source": [
    "d1.fillna(0)\n",
    "d1.columns[d1.isnull().sum()>0]"
   ]
  },
  {
   "cell_type": "code",
   "execution_count": 161,
   "metadata": {},
   "outputs": [],
   "source": [
    "#bmneg.apply(lambda x : x!=0).sum() #test"
   ]
  },
  {
   "cell_type": "code",
   "execution_count": null,
   "metadata": {},
   "outputs": [],
   "source": []
  },
  {
   "cell_type": "code",
   "execution_count": 139,
   "metadata": {},
   "outputs": [],
   "source": [
    "listbetadata=[bN,bP,bmneg,bmpos,bnormal] #Very discretionary only for AU market.\n",
    "for bm in listbetadata:\n",
    "    bm['NWH AT'].iloc[94]=bm['NWH AT'].iloc[93]"
   ]
  },
  {
   "cell_type": "markdown",
   "metadata": {},
   "source": [
    "### Summary Statistics"
   ]
  },
  {
   "cell_type": "code",
   "execution_count": 712,
   "metadata": {},
   "outputs": [],
   "source": [
    "## The Time Series Average of cross sectional means, medians and standard deviations averaged across all of the stocks\n",
    "average=[bnormal,bN,bP,bmpos,bmneg]\n",
    "summarystat=pd.DataFrame(index=pd.Index(['Mean','Median','St.Dev']),columns=['Beta','BetaN','BetaP','BetaM+','BetaM-'])\n",
    "def fm_summary(p): #Summary Statistics Function\n",
    "    std=p.std().mean()\n",
    "    median=p.median().mean()\n",
    "    mean=p.mean().mean()\n",
    "    return (mean,median,std)\n",
    "count=0\n",
    "for i in average:\n",
    "    res=fm_summary(i)\n",
    "    summarystat[summarystat.columns[count]]=[res[0],res[1],res[2]]\n",
    "    count+=1"
   ]
  },
  {
   "cell_type": "code",
   "execution_count": 713,
   "metadata": {
    "scrolled": true
   },
   "outputs": [
    {
     "data": {
      "text/html": [
       "<div>\n",
       "<style scoped>\n",
       "    .dataframe tbody tr th:only-of-type {\n",
       "        vertical-align: middle;\n",
       "    }\n",
       "\n",
       "    .dataframe tbody tr th {\n",
       "        vertical-align: top;\n",
       "    }\n",
       "\n",
       "    .dataframe thead th {\n",
       "        text-align: right;\n",
       "    }\n",
       "</style>\n",
       "<table border=\"1\" class=\"dataframe\">\n",
       "  <thead>\n",
       "    <tr style=\"text-align: right;\">\n",
       "      <th></th>\n",
       "      <th>Beta</th>\n",
       "      <th>BetaN</th>\n",
       "      <th>BetaP</th>\n",
       "      <th>BetaM+</th>\n",
       "      <th>BetaM-</th>\n",
       "    </tr>\n",
       "  </thead>\n",
       "  <tbody>\n",
       "    <tr>\n",
       "      <th>Mean</th>\n",
       "      <td>0.896163</td>\n",
       "      <td>0.597136</td>\n",
       "      <td>0.620593</td>\n",
       "      <td>0.175528</td>\n",
       "      <td>0.146039</td>\n",
       "    </tr>\n",
       "    <tr>\n",
       "      <th>Median</th>\n",
       "      <td>0.900301</td>\n",
       "      <td>0.545068</td>\n",
       "      <td>0.543203</td>\n",
       "      <td>0.108717</td>\n",
       "      <td>0.083474</td>\n",
       "    </tr>\n",
       "    <tr>\n",
       "      <th>St.Dev</th>\n",
       "      <td>0.572710</td>\n",
       "      <td>0.338136</td>\n",
       "      <td>0.383084</td>\n",
       "      <td>0.207628</td>\n",
       "      <td>0.180016</td>\n",
       "    </tr>\n",
       "  </tbody>\n",
       "</table>\n",
       "</div>"
      ],
      "text/plain": [
       "            Beta     BetaN     BetaP    BetaM+    BetaM-\n",
       "Mean    0.896163  0.597136  0.620593  0.175528  0.146039\n",
       "Median  0.900301  0.545068  0.543203  0.108717  0.083474\n",
       "St.Dev  0.572710  0.338136  0.383084  0.207628  0.180016"
      ]
     },
     "execution_count": 713,
     "metadata": {},
     "output_type": "execute_result"
    }
   ],
   "source": [
    "summarystat"
   ]
  },
  {
   "cell_type": "code",
   "execution_count": 716,
   "metadata": {
    "scrolled": true
   },
   "outputs": [
    {
     "data": {
      "text/plain": [
       "<matplotlib.legend.Legend at 0x2e499aab400>"
      ]
     },
     "execution_count": 716,
     "metadata": {},
     "output_type": "execute_result"
    },
    {
     "data": {
      "image/png": "[encoded data removed]",
      "text/plain": [
       "<Figure size 1152x576 with 1 Axes>"
      ]
     },
     "metadata": {
      "needs_background": "light"
     },
     "output_type": "display_data"
    }
   ],
   "source": [
    "bnormal.mean(axis=1).plot(figsize=(16,10),label='Beta CAPM')\n",
    "bN.mean(axis=1).plot(figsize=(16,10),label='Beta N')\n",
    "bP.mean(axis=1).plot(figsize=(16,10),label='Beta P')\n",
    "bmpos.mean(axis=1).plot(figsize=(16,8),label='Beta M+')\n",
    "bmneg.mean(axis=1).plot(figsize=(16,8),label='Beta M-')\n",
    "\n",
    "plt.legend(loc=\"upper left\")"
   ]
  },
  {
   "cell_type": "code",
   "execution_count": 717,
   "metadata": {},
   "outputs": [],
   "source": [
    "corrDF=pd.DataFrame(columns=['Beta','BetaN','BetaP','BetaM+','BetaM-']) #Average Across Time Function\n",
    "count=0\n",
    "for i in average:\n",
    "    corrDF[corrDF.columns[count]]=i.mean(axis=1).tolist()\n",
    "    count+=1"
   ]
  },
  {
   "cell_type": "code",
   "execution_count": 718,
   "metadata": {
    "scrolled": false
   },
   "outputs": [
    {
     "data": {
      "text/html": [
       "<style  type=\"text/css\" >\n",
       "    #T_07e423ed_18bf_11eb_952d_d89ef33c6da8row0_col0 {\n",
       "            background-color:  #b40426;\n",
       "            color:  #f1f1f1;\n",
       "        }    #T_07e423ed_18bf_11eb_952d_d89ef33c6da8row0_col1 {\n",
       "            background-color:  #f2cab5;\n",
       "            color:  #000000;\n",
       "        }    #T_07e423ed_18bf_11eb_952d_d89ef33c6da8row0_col2 {\n",
       "            background-color:  #d8dce2;\n",
       "            color:  #000000;\n",
       "        }    #T_07e423ed_18bf_11eb_952d_d89ef33c6da8row0_col3 {\n",
       "            background-color:  #3b4cc0;\n",
       "            color:  #f1f1f1;\n",
       "        }    #T_07e423ed_18bf_11eb_952d_d89ef33c6da8row0_col4 {\n",
       "            background-color:  #3b4cc0;\n",
       "            color:  #f1f1f1;\n",
       "        }    #T_07e423ed_18bf_11eb_952d_d89ef33c6da8row1_col0 {\n",
       "            background-color:  #f0cdbb;\n",
       "            color:  #000000;\n",
       "        }    #T_07e423ed_18bf_11eb_952d_d89ef33c6da8row1_col1 {\n",
       "            background-color:  #b40426;\n",
       "            color:  #f1f1f1;\n",
       "        }    #T_07e423ed_18bf_11eb_952d_d89ef33c6da8row1_col2 {\n",
       "            background-color:  #3b4cc0;\n",
       "            color:  #f1f1f1;\n",
       "        }    #T_07e423ed_18bf_11eb_952d_d89ef33c6da8row1_col3 {\n",
       "            background-color:  #6384eb;\n",
       "            color:  #000000;\n",
       "        }    #T_07e423ed_18bf_11eb_952d_d89ef33c6da8row1_col4 {\n",
       "            background-color:  #b1cbfc;\n",
       "            color:  #000000;\n",
       "        }    #T_07e423ed_18bf_11eb_952d_d89ef33c6da8row2_col0 {\n",
       "            background-color:  #d4dbe6;\n",
       "            color:  #000000;\n",
       "        }    #T_07e423ed_18bf_11eb_952d_d89ef33c6da8row2_col1 {\n",
       "            background-color:  #3b4cc0;\n",
       "            color:  #f1f1f1;\n",
       "        }    #T_07e423ed_18bf_11eb_952d_d89ef33c6da8row2_col2 {\n",
       "            background-color:  #b40426;\n",
       "            color:  #f1f1f1;\n",
       "        }    #T_07e423ed_18bf_11eb_952d_d89ef33c6da8row2_col3 {\n",
       "            background-color:  #f7b396;\n",
       "            color:  #000000;\n",
       "        }    #T_07e423ed_18bf_11eb_952d_d89ef33c6da8row2_col4 {\n",
       "            background-color:  #d7dce3;\n",
       "            color:  #000000;\n",
       "        }    #T_07e423ed_18bf_11eb_952d_d89ef33c6da8row3_col0 {\n",
       "            background-color:  #4e68d8;\n",
       "            color:  #000000;\n",
       "        }    #T_07e423ed_18bf_11eb_952d_d89ef33c6da8row3_col1 {\n",
       "            background-color:  #80a3fa;\n",
       "            color:  #000000;\n",
       "        }    #T_07e423ed_18bf_11eb_952d_d89ef33c6da8row3_col2 {\n",
       "            background-color:  #f7a889;\n",
       "            color:  #000000;\n",
       "        }    #T_07e423ed_18bf_11eb_952d_d89ef33c6da8row3_col3 {\n",
       "            background-color:  #b40426;\n",
       "            color:  #f1f1f1;\n",
       "        }    #T_07e423ed_18bf_11eb_952d_d89ef33c6da8row3_col4 {\n",
       "            background-color:  #f7a688;\n",
       "            color:  #000000;\n",
       "        }    #T_07e423ed_18bf_11eb_952d_d89ef33c6da8row4_col0 {\n",
       "            background-color:  #3b4cc0;\n",
       "            color:  #f1f1f1;\n",
       "        }    #T_07e423ed_18bf_11eb_952d_d89ef33c6da8row4_col1 {\n",
       "            background-color:  #b9d0f9;\n",
       "            color:  #000000;\n",
       "        }    #T_07e423ed_18bf_11eb_952d_d89ef33c6da8row4_col2 {\n",
       "            background-color:  #dcdddd;\n",
       "            color:  #000000;\n",
       "        }    #T_07e423ed_18bf_11eb_952d_d89ef33c6da8row4_col3 {\n",
       "            background-color:  #f7ad90;\n",
       "            color:  #000000;\n",
       "        }    #T_07e423ed_18bf_11eb_952d_d89ef33c6da8row4_col4 {\n",
       "            background-color:  #b40426;\n",
       "            color:  #f1f1f1;\n",
       "        }</style><table id=\"T_07e423ed_18bf_11eb_952d_d89ef33c6da8\" ><thead>    <tr>        <th class=\"blank level0\" ></th>        <th class=\"col_heading level0 col0\" >Beta</th>        <th class=\"col_heading level0 col1\" >BetaN</th>        <th class=\"col_heading level0 col2\" >BetaP</th>        <th class=\"col_heading level0 col3\" >BetaM+</th>        <th class=\"col_heading level0 col4\" >BetaM-</th>    </tr></thead><tbody>\n",
       "                <tr>\n",
       "                        <th id=\"T_07e423ed_18bf_11eb_952d_d89ef33c6da8level0_row0\" class=\"row_heading level0 row0\" >Beta</th>\n",
       "                        <td id=\"T_07e423ed_18bf_11eb_952d_d89ef33c6da8row0_col0\" class=\"data row0 col0\" >1.000000</td>\n",
       "                        <td id=\"T_07e423ed_18bf_11eb_952d_d89ef33c6da8row0_col1\" class=\"data row0 col1\" >0.398176</td>\n",
       "                        <td id=\"T_07e423ed_18bf_11eb_952d_d89ef33c6da8row0_col2\" class=\"data row0 col2\" >0.216470</td>\n",
       "                        <td id=\"T_07e423ed_18bf_11eb_952d_d89ef33c6da8row0_col3\" class=\"data row0 col3\" >-0.369826</td>\n",
       "                        <td id=\"T_07e423ed_18bf_11eb_952d_d89ef33c6da8row0_col4\" class=\"data row0 col4\" >-0.467185</td>\n",
       "            </tr>\n",
       "            <tr>\n",
       "                        <th id=\"T_07e423ed_18bf_11eb_952d_d89ef33c6da8level0_row1\" class=\"row_heading level0 row1\" >BetaN</th>\n",
       "                        <td id=\"T_07e423ed_18bf_11eb_952d_d89ef33c6da8row1_col0\" class=\"data row1 col0\" >0.398176</td>\n",
       "                        <td id=\"T_07e423ed_18bf_11eb_952d_d89ef33c6da8row1_col1\" class=\"data row1 col1\" >1.000000</td>\n",
       "                        <td id=\"T_07e423ed_18bf_11eb_952d_d89ef33c6da8row1_col2\" class=\"data row1 col2\" >-0.515375</td>\n",
       "                        <td id=\"T_07e423ed_18bf_11eb_952d_d89ef33c6da8row1_col3\" class=\"data row1 col3\" >-0.190173</td>\n",
       "                        <td id=\"T_07e423ed_18bf_11eb_952d_d89ef33c6da8row1_col4\" class=\"data row1 col4\" >0.053913</td>\n",
       "            </tr>\n",
       "            <tr>\n",
       "                        <th id=\"T_07e423ed_18bf_11eb_952d_d89ef33c6da8level0_row2\" class=\"row_heading level0 row2\" >BetaP</th>\n",
       "                        <td id=\"T_07e423ed_18bf_11eb_952d_d89ef33c6da8row2_col0\" class=\"data row2 col0\" >0.216470</td>\n",
       "                        <td id=\"T_07e423ed_18bf_11eb_952d_d89ef33c6da8row2_col1\" class=\"data row2 col1\" >-0.515375</td>\n",
       "                        <td id=\"T_07e423ed_18bf_11eb_952d_d89ef33c6da8row2_col2\" class=\"data row2 col2\" >1.000000</td>\n",
       "                        <td id=\"T_07e423ed_18bf_11eb_952d_d89ef33c6da8row2_col3\" class=\"data row2 col3\" >0.565593</td>\n",
       "                        <td id=\"T_07e423ed_18bf_11eb_952d_d89ef33c6da8row2_col4\" class=\"data row2 col4\" >0.237012</td>\n",
       "            </tr>\n",
       "            <tr>\n",
       "                        <th id=\"T_07e423ed_18bf_11eb_952d_d89ef33c6da8level0_row3\" class=\"row_heading level0 row3\" >BetaM+</th>\n",
       "                        <td id=\"T_07e423ed_18bf_11eb_952d_d89ef33c6da8row3_col0\" class=\"data row3 col0\" >-0.369826</td>\n",
       "                        <td id=\"T_07e423ed_18bf_11eb_952d_d89ef33c6da8row3_col1\" class=\"data row3 col1\" >-0.190173</td>\n",
       "                        <td id=\"T_07e423ed_18bf_11eb_952d_d89ef33c6da8row3_col2\" class=\"data row3 col2\" >0.565593</td>\n",
       "                        <td id=\"T_07e423ed_18bf_11eb_952d_d89ef33c6da8row3_col3\" class=\"data row3 col3\" >1.000000</td>\n",
       "                        <td id=\"T_07e423ed_18bf_11eb_952d_d89ef33c6da8row3_col4\" class=\"data row3 col4\" >0.586808</td>\n",
       "            </tr>\n",
       "            <tr>\n",
       "                        <th id=\"T_07e423ed_18bf_11eb_952d_d89ef33c6da8level0_row4\" class=\"row_heading level0 row4\" >BetaM-</th>\n",
       "                        <td id=\"T_07e423ed_18bf_11eb_952d_d89ef33c6da8row4_col0\" class=\"data row4 col0\" >-0.467185</td>\n",
       "                        <td id=\"T_07e423ed_18bf_11eb_952d_d89ef33c6da8row4_col1\" class=\"data row4 col1\" >0.053913</td>\n",
       "                        <td id=\"T_07e423ed_18bf_11eb_952d_d89ef33c6da8row4_col2\" class=\"data row4 col2\" >0.237012</td>\n",
       "                        <td id=\"T_07e423ed_18bf_11eb_952d_d89ef33c6da8row4_col3\" class=\"data row4 col3\" >0.586808</td>\n",
       "                        <td id=\"T_07e423ed_18bf_11eb_952d_d89ef33c6da8row4_col4\" class=\"data row4 col4\" >1.000000</td>\n",
       "            </tr>\n",
       "    </tbody></table>"
      ],
      "text/plain": [
       "<pandas.io.formats.style.Styler at 0x2e4a31cadf0>"
      ]
     },
     "execution_count": 718,
     "metadata": {},
     "output_type": "execute_result"
    }
   ],
   "source": [
    "corrDF.corr(method=\"pearson\").style.background_gradient(cmap='coolwarm')\n",
    "#seaborn.heatmap(corrDF.corr(),annot=True)"
   ]
  },
  {
   "cell_type": "markdown",
   "metadata": {},
   "source": [
    "### Adiional test"
   ]
  },
  {
   "cell_type": "code",
   "execution_count": 719,
   "metadata": {},
   "outputs": [],
   "source": [
    "##From yfinance for test\n",
    "sp500=pd.read_csv('C:\\\\Users\\\\raymond.widjaja\\\\Desktop\\\\SemiBetas Data\\\\^GSPC.csv')\n",
    "sp500['change']=sp500['Adj Close'].pct_change()\n",
    "sp500ret=sp500['change']\n",
    "sp500ret.dropna(inplace=True)\n",
    "sp500ret=sp500ret.to_frame()\n",
    "sp500ret=sp500ret.set_index(d1.index)\n",
    "sp500ret.columns=['SP500']"
   ]
  },
  {
   "cell_type": "code",
   "execution_count": null,
   "metadata": {
    "scrolled": true
   },
   "outputs": [],
   "source": []
  },
  {
   "cell_type": "markdown",
   "metadata": {},
   "source": [
    "### Sensitivity in differnet regime"
   ]
  },
  {
   "cell_type": "code",
   "execution_count": 368,
   "metadata": {},
   "outputs": [],
   "source": [
    "datadummy=data.copy()"
   ]
  },
  {
   "cell_type": "code",
   "execution_count": 369,
   "metadata": {},
   "outputs": [],
   "source": [
    "for i in missingdata:\n",
    "    datadummy.remove(i)"
   ]
  },
  {
   "cell_type": "code",
   "execution_count": 365,
   "metadata": {},
   "outputs": [],
   "source": [
    "#plt.scatter(d1['AAL UW'],sp500ret)\n",
    "#plt.axis([-0.2,0.2,-0.04,0.04])\n",
    "#plt.axvline(x=0)\n",
    "#plt.axhline(y=0)"
   ]
  },
  {
   "cell_type": "code",
   "execution_count": 376,
   "metadata": {},
   "outputs": [
    {
     "data": {
      "text/html": [
       "<div>\n",
       "<style scoped>\n",
       "    .dataframe tbody tr th:only-of-type {\n",
       "        vertical-align: middle;\n",
       "    }\n",
       "\n",
       "    .dataframe tbody tr th {\n",
       "        vertical-align: top;\n",
       "    }\n",
       "\n",
       "    .dataframe thead th {\n",
       "        text-align: right;\n",
       "    }\n",
       "</style>\n",
       "<table border=\"1\" class=\"dataframe\">\n",
       "  <thead>\n",
       "    <tr style=\"text-align: right;\">\n",
       "      <th></th>\n",
       "      <th>A UN</th>\n",
       "      <th>AAL UW</th>\n",
       "      <th>AAP UN</th>\n",
       "      <th>AAPL UW</th>\n",
       "      <th>ABBV UN</th>\n",
       "      <th>ABC UN</th>\n",
       "      <th>ABMD UW</th>\n",
       "      <th>ABT UN</th>\n",
       "      <th>ACN UN</th>\n",
       "      <th>ADBE UW</th>\n",
       "      <th>...</th>\n",
       "      <th>XOM UN</th>\n",
       "      <th>XRAY UW</th>\n",
       "      <th>XRX UN</th>\n",
       "      <th>XYL UN</th>\n",
       "      <th>YUM UN</th>\n",
       "      <th>ZBH UN</th>\n",
       "      <th>ZBRA UW</th>\n",
       "      <th>ZION UW</th>\n",
       "      <th>ZTS UN</th>\n",
       "      <th>A UN</th>\n",
       "    </tr>\n",
       "  </thead>\n",
       "  <tbody>\n",
       "    <tr>\n",
       "      <th>2020-05-26 00:00:00</th>\n",
       "      <td>0.013533</td>\n",
       "      <td>0.148454</td>\n",
       "      <td>0.015733</td>\n",
       "      <td>-0.006773</td>\n",
       "      <td>-0.015092</td>\n",
       "      <td>-0.025338</td>\n",
       "      <td>0.014164</td>\n",
       "      <td>-0.021756</td>\n",
       "      <td>0.013887</td>\n",
       "      <td>-0.022400</td>\n",
       "      <td>...</td>\n",
       "      <td>0.029372</td>\n",
       "      <td>0.073153</td>\n",
       "      <td>0.026502</td>\n",
       "      <td>0.048698</td>\n",
       "      <td>0.009169</td>\n",
       "      <td>0.027066</td>\n",
       "      <td>0.050998</td>\n",
       "      <td>0.090759</td>\n",
       "      <td>0.002613</td>\n",
       "      <td>0.013533</td>\n",
       "    </tr>\n",
       "    <tr>\n",
       "      <th>2020-05-27 00:00:00</th>\n",
       "      <td>0.000581</td>\n",
       "      <td>0.075404</td>\n",
       "      <td>0.045213</td>\n",
       "      <td>0.004357</td>\n",
       "      <td>-0.008048</td>\n",
       "      <td>0.028090</td>\n",
       "      <td>-0.006313</td>\n",
       "      <td>0.014305</td>\n",
       "      <td>0.017974</td>\n",
       "      <td>-0.003876</td>\n",
       "      <td>...</td>\n",
       "      <td>0.007188</td>\n",
       "      <td>0.054269</td>\n",
       "      <td>0.037866</td>\n",
       "      <td>0.055326</td>\n",
       "      <td>0.024872</td>\n",
       "      <td>0.012624</td>\n",
       "      <td>0.010588</td>\n",
       "      <td>0.065290</td>\n",
       "      <td>0.039785</td>\n",
       "      <td>0.000581</td>\n",
       "    </tr>\n",
       "    <tr>\n",
       "      <th>2020-05-28 00:00:00</th>\n",
       "      <td>0.005918</td>\n",
       "      <td>-0.083472</td>\n",
       "      <td>-0.023075</td>\n",
       "      <td>0.000440</td>\n",
       "      <td>0.000556</td>\n",
       "      <td>0.011465</td>\n",
       "      <td>0.046207</td>\n",
       "      <td>0.014764</td>\n",
       "      <td>0.008703</td>\n",
       "      <td>0.012421</td>\n",
       "      <td>...</td>\n",
       "      <td>-0.025952</td>\n",
       "      <td>-0.016740</td>\n",
       "      <td>-0.070757</td>\n",
       "      <td>-0.010166</td>\n",
       "      <td>0.006760</td>\n",
       "      <td>-0.002727</td>\n",
       "      <td>-0.004832</td>\n",
       "      <td>-0.030217</td>\n",
       "      <td>0.018210</td>\n",
       "      <td>0.005918</td>\n",
       "    </tr>\n",
       "    <tr>\n",
       "      <th>2020-05-29 00:00:00</th>\n",
       "      <td>0.016726</td>\n",
       "      <td>-0.043716</td>\n",
       "      <td>0.006357</td>\n",
       "      <td>-0.000980</td>\n",
       "      <td>0.029324</td>\n",
       "      <td>0.009958</td>\n",
       "      <td>0.030088</td>\n",
       "      <td>0.030619</td>\n",
       "      <td>-0.000248</td>\n",
       "      <td>0.017824</td>\n",
       "      <td>...</td>\n",
       "      <td>0.009547</td>\n",
       "      <td>-0.010002</td>\n",
       "      <td>-0.055324</td>\n",
       "      <td>-0.026702</td>\n",
       "      <td>-0.012328</td>\n",
       "      <td>-0.012892</td>\n",
       "      <td>0.015150</td>\n",
       "      <td>-0.032775</td>\n",
       "      <td>0.009268</td>\n",
       "      <td>0.016726</td>\n",
       "    </tr>\n",
       "    <tr>\n",
       "      <th>2020-06-01 00:00:00</th>\n",
       "      <td>0.020082</td>\n",
       "      <td>0.058095</td>\n",
       "      <td>0.003374</td>\n",
       "      <td>0.012304</td>\n",
       "      <td>-0.021258</td>\n",
       "      <td>-0.001993</td>\n",
       "      <td>0.010004</td>\n",
       "      <td>-0.020122</td>\n",
       "      <td>0.008729</td>\n",
       "      <td>0.007967</td>\n",
       "      <td>...</td>\n",
       "      <td>0.017814</td>\n",
       "      <td>0.012468</td>\n",
       "      <td>0.070529</td>\n",
       "      <td>-0.005125</td>\n",
       "      <td>0.008804</td>\n",
       "      <td>0.012189</td>\n",
       "      <td>0.013968</td>\n",
       "      <td>0.015651</td>\n",
       "      <td>-0.007533</td>\n",
       "      <td>0.020082</td>\n",
       "    </tr>\n",
       "    <tr>\n",
       "      <th>...</th>\n",
       "      <td>...</td>\n",
       "      <td>...</td>\n",
       "      <td>...</td>\n",
       "      <td>...</td>\n",
       "      <td>...</td>\n",
       "      <td>...</td>\n",
       "      <td>...</td>\n",
       "      <td>...</td>\n",
       "      <td>...</td>\n",
       "      <td>...</td>\n",
       "      <td>...</td>\n",
       "      <td>...</td>\n",
       "      <td>...</td>\n",
       "      <td>...</td>\n",
       "      <td>...</td>\n",
       "      <td>...</td>\n",
       "      <td>...</td>\n",
       "      <td>...</td>\n",
       "      <td>...</td>\n",
       "      <td>...</td>\n",
       "      <td>...</td>\n",
       "    </tr>\n",
       "    <tr>\n",
       "      <th>2020-09-30 00:00:00</th>\n",
       "      <td>0.007184</td>\n",
       "      <td>0.003265</td>\n",
       "      <td>0.011799</td>\n",
       "      <td>0.015076</td>\n",
       "      <td>0.008056</td>\n",
       "      <td>0.007903</td>\n",
       "      <td>0.016883</td>\n",
       "      <td>0.034604</td>\n",
       "      <td>0.008524</td>\n",
       "      <td>0.002248</td>\n",
       "      <td>...</td>\n",
       "      <td>0.001459</td>\n",
       "      <td>0.022924</td>\n",
       "      <td>0.016793</td>\n",
       "      <td>0.004178</td>\n",
       "      <td>0.006504</td>\n",
       "      <td>0.020540</td>\n",
       "      <td>-0.024950</td>\n",
       "      <td>0.008630</td>\n",
       "      <td>0.017787</td>\n",
       "      <td>0.007184</td>\n",
       "    </tr>\n",
       "    <tr>\n",
       "      <th>2020-10-01 00:00:00</th>\n",
       "      <td>0.002774</td>\n",
       "      <td>0.023596</td>\n",
       "      <td>0.008795</td>\n",
       "      <td>0.008462</td>\n",
       "      <td>-0.005138</td>\n",
       "      <td>-0.016096</td>\n",
       "      <td>-0.059951</td>\n",
       "      <td>-0.001746</td>\n",
       "      <td>-0.003584</td>\n",
       "      <td>0.018514</td>\n",
       "      <td>...</td>\n",
       "      <td>-0.034955</td>\n",
       "      <td>-0.005031</td>\n",
       "      <td>-0.005328</td>\n",
       "      <td>-0.018545</td>\n",
       "      <td>0.005696</td>\n",
       "      <td>0.008741</td>\n",
       "      <td>0.023845</td>\n",
       "      <td>-0.003422</td>\n",
       "      <td>-0.008103</td>\n",
       "      <td>0.002774</td>\n",
       "    </tr>\n",
       "    <tr>\n",
       "      <th>2020-10-02 00:00:00</th>\n",
       "      <td>-0.011954</td>\n",
       "      <td>0.033386</td>\n",
       "      <td>0.004198</td>\n",
       "      <td>-0.032280</td>\n",
       "      <td>-0.011705</td>\n",
       "      <td>0.000210</td>\n",
       "      <td>0.005913</td>\n",
       "      <td>-0.019698</td>\n",
       "      <td>-0.012346</td>\n",
       "      <td>-0.041080</td>\n",
       "      <td>...</td>\n",
       "      <td>-0.004528</td>\n",
       "      <td>0.003447</td>\n",
       "      <td>0.020354</td>\n",
       "      <td>0.022650</td>\n",
       "      <td>0.036484</td>\n",
       "      <td>0.002621</td>\n",
       "      <td>0.001277</td>\n",
       "      <td>0.025069</td>\n",
       "      <td>-0.002926</td>\n",
       "      <td>-0.011954</td>\n",
       "    </tr>\n",
       "    <tr>\n",
       "      <th>2020-10-05 00:00:00</th>\n",
       "      <td>0.031097</td>\n",
       "      <td>0.009231</td>\n",
       "      <td>0.002315</td>\n",
       "      <td>0.030791</td>\n",
       "      <td>0.021017</td>\n",
       "      <td>0.010589</td>\n",
       "      <td>0.033207</td>\n",
       "      <td>0.019343</td>\n",
       "      <td>0.004901</td>\n",
       "      <td>0.015616</td>\n",
       "      <td>...</td>\n",
       "      <td>0.023044</td>\n",
       "      <td>0.026340</td>\n",
       "      <td>0.030971</td>\n",
       "      <td>0.022385</td>\n",
       "      <td>-0.011348</td>\n",
       "      <td>0.028324</td>\n",
       "      <td>0.035547</td>\n",
       "      <td>0.047906</td>\n",
       "      <td>-0.000611</td>\n",
       "      <td>0.031097</td>\n",
       "    </tr>\n",
       "    <tr>\n",
       "      <th>2020-10-06 00:00:00</th>\n",
       "      <td>-0.014449</td>\n",
       "      <td>-0.044970</td>\n",
       "      <td>-0.004491</td>\n",
       "      <td>-0.028670</td>\n",
       "      <td>-0.023200</td>\n",
       "      <td>-0.007885</td>\n",
       "      <td>-0.021685</td>\n",
       "      <td>-0.021279</td>\n",
       "      <td>-0.014050</td>\n",
       "      <td>-0.015397</td>\n",
       "      <td>...</td>\n",
       "      <td>-0.010373</td>\n",
       "      <td>-0.015622</td>\n",
       "      <td>0.003564</td>\n",
       "      <td>0.002201</td>\n",
       "      <td>-0.023063</td>\n",
       "      <td>-0.003602</td>\n",
       "      <td>0.007313</td>\n",
       "      <td>-0.012148</td>\n",
       "      <td>-0.011808</td>\n",
       "      <td>NaN</td>\n",
       "    </tr>\n",
       "  </tbody>\n",
       "</table>\n",
       "<p>94 rows × 506 columns</p>\n",
       "</div>"
      ],
      "text/plain": [
       "                         A UN    AAL UW    AAP UN   AAPL UW   ABBV UN  \\\n",
       "2020-05-26 00:00:00  0.013533  0.148454  0.015733 -0.006773 -0.015092   \n",
       "2020-05-27 00:00:00  0.000581  0.075404  0.045213  0.004357 -0.008048   \n",
       "2020-05-28 00:00:00  0.005918 -0.083472 -0.023075  0.000440  0.000556   \n",
       "2020-05-29 00:00:00  0.016726 -0.043716  0.006357 -0.000980  0.029324   \n",
       "2020-06-01 00:00:00  0.020082  0.058095  0.003374  0.012304 -0.021258   \n",
       "...                       ...       ...       ...       ...       ...   \n",
       "2020-09-30 00:00:00  0.007184  0.003265  0.011799  0.015076  0.008056   \n",
       "2020-10-01 00:00:00  0.002774  0.023596  0.008795  0.008462 -0.005138   \n",
       "2020-10-02 00:00:00 -0.011954  0.033386  0.004198 -0.032280 -0.011705   \n",
       "2020-10-05 00:00:00  0.031097  0.009231  0.002315  0.030791  0.021017   \n",
       "2020-10-06 00:00:00 -0.014449 -0.044970 -0.004491 -0.028670 -0.023200   \n",
       "\n",
       "                       ABC UN   ABMD UW    ABT UN    ACN UN   ADBE UW  ...  \\\n",
       "2020-05-26 00:00:00 -0.025338  0.014164 -0.021756  0.013887 -0.022400  ...   \n",
       "2020-05-27 00:00:00  0.028090 -0.006313  0.014305  0.017974 -0.003876  ...   \n",
       "2020-05-28 00:00:00  0.011465  0.046207  0.014764  0.008703  0.012421  ...   \n",
       "2020-05-29 00:00:00  0.009958  0.030088  0.030619 -0.000248  0.017824  ...   \n",
       "2020-06-01 00:00:00 -0.001993  0.010004 -0.020122  0.008729  0.007967  ...   \n",
       "...                       ...       ...       ...       ...       ...  ...   \n",
       "2020-09-30 00:00:00  0.007903  0.016883  0.034604  0.008524  0.002248  ...   \n",
       "2020-10-01 00:00:00 -0.016096 -0.059951 -0.001746 -0.003584  0.018514  ...   \n",
       "2020-10-02 00:00:00  0.000210  0.005913 -0.019698 -0.012346 -0.041080  ...   \n",
       "2020-10-05 00:00:00  0.010589  0.033207  0.019343  0.004901  0.015616  ...   \n",
       "2020-10-06 00:00:00 -0.007885 -0.021685 -0.021279 -0.014050 -0.015397  ...   \n",
       "\n",
       "                       XOM UN   XRAY UW    XRX UN    XYL UN    YUM UN  \\\n",
       "2020-05-26 00:00:00  0.029372  0.073153  0.026502  0.048698  0.009169   \n",
       "2020-05-27 00:00:00  0.007188  0.054269  0.037866  0.055326  0.024872   \n",
       "2020-05-28 00:00:00 -0.025952 -0.016740 -0.070757 -0.010166  0.006760   \n",
       "2020-05-29 00:00:00  0.009547 -0.010002 -0.055324 -0.026702 -0.012328   \n",
       "2020-06-01 00:00:00  0.017814  0.012468  0.070529 -0.005125  0.008804   \n",
       "...                       ...       ...       ...       ...       ...   \n",
       "2020-09-30 00:00:00  0.001459  0.022924  0.016793  0.004178  0.006504   \n",
       "2020-10-01 00:00:00 -0.034955 -0.005031 -0.005328 -0.018545  0.005696   \n",
       "2020-10-02 00:00:00 -0.004528  0.003447  0.020354  0.022650  0.036484   \n",
       "2020-10-05 00:00:00  0.023044  0.026340  0.030971  0.022385 -0.011348   \n",
       "2020-10-06 00:00:00 -0.010373 -0.015622  0.003564  0.002201 -0.023063   \n",
       "\n",
       "                       ZBH UN   ZBRA UW   ZION UW    ZTS UN      A UN  \n",
       "2020-05-26 00:00:00  0.027066  0.050998  0.090759  0.002613  0.013533  \n",
       "2020-05-27 00:00:00  0.012624  0.010588  0.065290  0.039785  0.000581  \n",
       "2020-05-28 00:00:00 -0.002727 -0.004832 -0.030217  0.018210  0.005918  \n",
       "2020-05-29 00:00:00 -0.012892  0.015150 -0.032775  0.009268  0.016726  \n",
       "2020-06-01 00:00:00  0.012189  0.013968  0.015651 -0.007533  0.020082  \n",
       "...                       ...       ...       ...       ...       ...  \n",
       "2020-09-30 00:00:00  0.020540 -0.024950  0.008630  0.017787  0.007184  \n",
       "2020-10-01 00:00:00  0.008741  0.023845 -0.003422 -0.008103  0.002774  \n",
       "2020-10-02 00:00:00  0.002621  0.001277  0.025069 -0.002926 -0.011954  \n",
       "2020-10-05 00:00:00  0.028324  0.035547  0.047906 -0.000611  0.031097  \n",
       "2020-10-06 00:00:00 -0.003602  0.007313 -0.012148 -0.011808       NaN  \n",
       "\n",
       "[94 rows x 506 columns]"
      ]
     },
     "execution_count": 376,
     "metadata": {},
     "output_type": "execute_result"
    }
   ],
   "source": [
    "df"
   ]
  },
  {
   "cell_type": "code",
   "execution_count": 370,
   "metadata": {},
   "outputs": [
    {
     "ename": "KeyError",
     "evalue": "'SP500'",
     "output_type": "error",
     "traceback": [
      "\u001b[1;31m---------------------------------------------------------------------------\u001b[0m",
      "\u001b[1;31mKeyError\u001b[0m                                  Traceback (most recent call last)",
      "\u001b[1;32mC:\\ProgramData\\Anaconda3\\lib\\site-packages\\pandas\\core\\indexes\\base.py\u001b[0m in \u001b[0;36mget_loc\u001b[1;34m(self, key, method, tolerance)\u001b[0m\n\u001b[0;32m   2645\u001b[0m             \u001b[1;32mtry\u001b[0m\u001b[1;33m:\u001b[0m\u001b[1;33m\u001b[0m\u001b[1;33m\u001b[0m\u001b[0m\n\u001b[1;32m-> 2646\u001b[1;33m                 \u001b[1;32mreturn\u001b[0m \u001b[0mself\u001b[0m\u001b[1;33m.\u001b[0m\u001b[0m_engine\u001b[0m\u001b[1;33m.\u001b[0m\u001b[0mget_loc\u001b[0m\u001b[1;33m(\u001b[0m\u001b[0mkey\u001b[0m\u001b[1;33m)\u001b[0m\u001b[1;33m\u001b[0m\u001b[1;33m\u001b[0m\u001b[0m\n\u001b[0m\u001b[0;32m   2647\u001b[0m             \u001b[1;32mexcept\u001b[0m \u001b[0mKeyError\u001b[0m\u001b[1;33m:\u001b[0m\u001b[1;33m\u001b[0m\u001b[1;33m\u001b[0m\u001b[0m\n",
      "\u001b[1;32mpandas\\_libs\\index.pyx\u001b[0m in \u001b[0;36mpandas._libs.index.IndexEngine.get_loc\u001b[1;34m()\u001b[0m\n",
      "\u001b[1;32mpandas\\_libs\\index.pyx\u001b[0m in \u001b[0;36mpandas._libs.index.IndexEngine.get_loc\u001b[1;34m()\u001b[0m\n",
      "\u001b[1;32mpandas\\_libs\\index.pyx\u001b[0m in \u001b[0;36mpandas._libs.index.IndexEngine._get_loc_duplicates\u001b[1;34m()\u001b[0m\n",
      "\u001b[1;32mpandas\\_libs\\index.pyx\u001b[0m in \u001b[0;36mpandas._libs.index.IndexEngine._maybe_get_bool_indexer\u001b[1;34m()\u001b[0m\n",
      "\u001b[1;31mKeyError\u001b[0m: 'SP500'",
      "\nDuring handling of the above exception, another exception occurred:\n",
      "\u001b[1;31mKeyError\u001b[0m                                  Traceback (most recent call last)",
      "\u001b[1;32m<ipython-input-370-e987dd8f2f1c>\u001b[0m in \u001b[0;36m<module>\u001b[1;34m\u001b[0m\n\u001b[0;32m      6\u001b[0m \u001b[1;32mfor\u001b[0m \u001b[0msym\u001b[0m \u001b[1;32min\u001b[0m \u001b[0mdatadummy\u001b[0m\u001b[1;33m:\u001b[0m\u001b[1;33m\u001b[0m\u001b[1;33m\u001b[0m\u001b[0m\n\u001b[0;32m      7\u001b[0m     \u001b[0mdf\u001b[0m\u001b[1;33m=\u001b[0m\u001b[0mpd\u001b[0m\u001b[1;33m.\u001b[0m\u001b[0mconcat\u001b[0m\u001b[1;33m(\u001b[0m\u001b[1;33m[\u001b[0m\u001b[0mdailyret\u001b[0m\u001b[1;33m,\u001b[0m\u001b[0md1\u001b[0m\u001b[1;33m[\u001b[0m\u001b[0msym\u001b[0m\u001b[1;33m]\u001b[0m\u001b[1;33m]\u001b[0m\u001b[1;33m,\u001b[0m\u001b[0maxis\u001b[0m\u001b[1;33m=\u001b[0m\u001b[1;36m1\u001b[0m\u001b[1;33m)\u001b[0m  \u001b[1;31m# for US change dailyret to sp500ret\u001b[0m\u001b[1;33m\u001b[0m\u001b[1;33m\u001b[0m\u001b[0m\n\u001b[1;32m----> 8\u001b[1;33m     \u001b[0my1\u001b[0m\u001b[1;33m=\u001b[0m\u001b[0mdf\u001b[0m\u001b[1;33m[\u001b[0m\u001b[1;33m(\u001b[0m\u001b[0mdf\u001b[0m\u001b[1;33m[\u001b[0m\u001b[1;34m'SP500'\u001b[0m\u001b[1;33m]\u001b[0m\u001b[1;33m>\u001b[0m\u001b[1;36m0\u001b[0m\u001b[1;33m)\u001b[0m\u001b[1;33m&\u001b[0m\u001b[1;33m(\u001b[0m\u001b[0mdf\u001b[0m\u001b[1;33m[\u001b[0m\u001b[0msym\u001b[0m\u001b[1;33m]\u001b[0m\u001b[1;33m>\u001b[0m\u001b[1;36m0\u001b[0m\u001b[1;33m)\u001b[0m\u001b[1;33m]\u001b[0m\u001b[1;33m\u001b[0m\u001b[1;33m\u001b[0m\u001b[0m\n\u001b[0m\u001b[0;32m      9\u001b[0m     \u001b[0mprint\u001b[0m\u001b[1;33m(\u001b[0m\u001b[0my1\u001b[0m\u001b[1;33m)\u001b[0m\u001b[1;33m\u001b[0m\u001b[1;33m\u001b[0m\u001b[0m\n\u001b[0;32m     10\u001b[0m     \u001b[0my2\u001b[0m\u001b[1;33m=\u001b[0m\u001b[0mdf\u001b[0m\u001b[1;33m[\u001b[0m\u001b[1;33m(\u001b[0m\u001b[0mdf\u001b[0m\u001b[1;33m[\u001b[0m\u001b[1;34m'SP500'\u001b[0m\u001b[1;33m]\u001b[0m\u001b[1;33m<\u001b[0m\u001b[1;36m0\u001b[0m\u001b[1;33m)\u001b[0m\u001b[1;33m&\u001b[0m\u001b[1;33m(\u001b[0m\u001b[0mdf\u001b[0m\u001b[1;33m[\u001b[0m\u001b[0msym\u001b[0m\u001b[1;33m]\u001b[0m\u001b[1;33m>\u001b[0m\u001b[1;36m0\u001b[0m\u001b[1;33m)\u001b[0m\u001b[1;33m]\u001b[0m\u001b[1;33m\u001b[0m\u001b[1;33m\u001b[0m\u001b[0m\n",
      "\u001b[1;32mC:\\ProgramData\\Anaconda3\\lib\\site-packages\\pandas\\core\\frame.py\u001b[0m in \u001b[0;36m__getitem__\u001b[1;34m(self, key)\u001b[0m\n\u001b[0;32m   2798\u001b[0m             \u001b[1;32mif\u001b[0m \u001b[0mself\u001b[0m\u001b[1;33m.\u001b[0m\u001b[0mcolumns\u001b[0m\u001b[1;33m.\u001b[0m\u001b[0mnlevels\u001b[0m \u001b[1;33m>\u001b[0m \u001b[1;36m1\u001b[0m\u001b[1;33m:\u001b[0m\u001b[1;33m\u001b[0m\u001b[1;33m\u001b[0m\u001b[0m\n\u001b[0;32m   2799\u001b[0m                 \u001b[1;32mreturn\u001b[0m \u001b[0mself\u001b[0m\u001b[1;33m.\u001b[0m\u001b[0m_getitem_multilevel\u001b[0m\u001b[1;33m(\u001b[0m\u001b[0mkey\u001b[0m\u001b[1;33m)\u001b[0m\u001b[1;33m\u001b[0m\u001b[1;33m\u001b[0m\u001b[0m\n\u001b[1;32m-> 2800\u001b[1;33m             \u001b[0mindexer\u001b[0m \u001b[1;33m=\u001b[0m \u001b[0mself\u001b[0m\u001b[1;33m.\u001b[0m\u001b[0mcolumns\u001b[0m\u001b[1;33m.\u001b[0m\u001b[0mget_loc\u001b[0m\u001b[1;33m(\u001b[0m\u001b[0mkey\u001b[0m\u001b[1;33m)\u001b[0m\u001b[1;33m\u001b[0m\u001b[1;33m\u001b[0m\u001b[0m\n\u001b[0m\u001b[0;32m   2801\u001b[0m             \u001b[1;32mif\u001b[0m \u001b[0mis_integer\u001b[0m\u001b[1;33m(\u001b[0m\u001b[0mindexer\u001b[0m\u001b[1;33m)\u001b[0m\u001b[1;33m:\u001b[0m\u001b[1;33m\u001b[0m\u001b[1;33m\u001b[0m\u001b[0m\n\u001b[0;32m   2802\u001b[0m                 \u001b[0mindexer\u001b[0m \u001b[1;33m=\u001b[0m \u001b[1;33m[\u001b[0m\u001b[0mindexer\u001b[0m\u001b[1;33m]\u001b[0m\u001b[1;33m\u001b[0m\u001b[1;33m\u001b[0m\u001b[0m\n",
      "\u001b[1;32mC:\\ProgramData\\Anaconda3\\lib\\site-packages\\pandas\\core\\indexes\\base.py\u001b[0m in \u001b[0;36mget_loc\u001b[1;34m(self, key, method, tolerance)\u001b[0m\n\u001b[0;32m   2646\u001b[0m                 \u001b[1;32mreturn\u001b[0m \u001b[0mself\u001b[0m\u001b[1;33m.\u001b[0m\u001b[0m_engine\u001b[0m\u001b[1;33m.\u001b[0m\u001b[0mget_loc\u001b[0m\u001b[1;33m(\u001b[0m\u001b[0mkey\u001b[0m\u001b[1;33m)\u001b[0m\u001b[1;33m\u001b[0m\u001b[1;33m\u001b[0m\u001b[0m\n\u001b[0;32m   2647\u001b[0m             \u001b[1;32mexcept\u001b[0m \u001b[0mKeyError\u001b[0m\u001b[1;33m:\u001b[0m\u001b[1;33m\u001b[0m\u001b[1;33m\u001b[0m\u001b[0m\n\u001b[1;32m-> 2648\u001b[1;33m                 \u001b[1;32mreturn\u001b[0m \u001b[0mself\u001b[0m\u001b[1;33m.\u001b[0m\u001b[0m_engine\u001b[0m\u001b[1;33m.\u001b[0m\u001b[0mget_loc\u001b[0m\u001b[1;33m(\u001b[0m\u001b[0mself\u001b[0m\u001b[1;33m.\u001b[0m\u001b[0m_maybe_cast_indexer\u001b[0m\u001b[1;33m(\u001b[0m\u001b[0mkey\u001b[0m\u001b[1;33m)\u001b[0m\u001b[1;33m)\u001b[0m\u001b[1;33m\u001b[0m\u001b[1;33m\u001b[0m\u001b[0m\n\u001b[0m\u001b[0;32m   2649\u001b[0m         \u001b[0mindexer\u001b[0m \u001b[1;33m=\u001b[0m \u001b[0mself\u001b[0m\u001b[1;33m.\u001b[0m\u001b[0mget_indexer\u001b[0m\u001b[1;33m(\u001b[0m\u001b[1;33m[\u001b[0m\u001b[0mkey\u001b[0m\u001b[1;33m]\u001b[0m\u001b[1;33m,\u001b[0m \u001b[0mmethod\u001b[0m\u001b[1;33m=\u001b[0m\u001b[0mmethod\u001b[0m\u001b[1;33m,\u001b[0m \u001b[0mtolerance\u001b[0m\u001b[1;33m=\u001b[0m\u001b[0mtolerance\u001b[0m\u001b[1;33m)\u001b[0m\u001b[1;33m\u001b[0m\u001b[1;33m\u001b[0m\u001b[0m\n\u001b[0;32m   2650\u001b[0m         \u001b[1;32mif\u001b[0m \u001b[0mindexer\u001b[0m\u001b[1;33m.\u001b[0m\u001b[0mndim\u001b[0m \u001b[1;33m>\u001b[0m \u001b[1;36m1\u001b[0m \u001b[1;32mor\u001b[0m \u001b[0mindexer\u001b[0m\u001b[1;33m.\u001b[0m\u001b[0msize\u001b[0m \u001b[1;33m>\u001b[0m \u001b[1;36m1\u001b[0m\u001b[1;33m:\u001b[0m\u001b[1;33m\u001b[0m\u001b[1;33m\u001b[0m\u001b[0m\n",
      "\u001b[1;32mpandas\\_libs\\index.pyx\u001b[0m in \u001b[0;36mpandas._libs.index.IndexEngine.get_loc\u001b[1;34m()\u001b[0m\n",
      "\u001b[1;32mpandas\\_libs\\index.pyx\u001b[0m in \u001b[0;36mpandas._libs.index.IndexEngine.get_loc\u001b[1;34m()\u001b[0m\n",
      "\u001b[1;32mpandas\\_libs\\index.pyx\u001b[0m in \u001b[0;36mpandas._libs.index.IndexEngine._get_loc_duplicates\u001b[1;34m()\u001b[0m\n",
      "\u001b[1;32mpandas\\_libs\\index.pyx\u001b[0m in \u001b[0;36mpandas._libs.index.IndexEngine._maybe_get_bool_indexer\u001b[1;34m()\u001b[0m\n",
      "\u001b[1;31mKeyError\u001b[0m: 'SP500'"
     ]
    }
   ],
   "source": [
    "#Sensitivity signed of market and asset return average across 500 stocks\n",
    "expo1=[]\n",
    "expo2=[]\n",
    "expo3=[]\n",
    "expo4=[]\n",
    "for sym in datadummy:\n",
    "    df=pd.concat([dailyret,d1[sym]],axis=1)  # for US change dailyret to sp500ret\n",
    "    y1=df[(df['SP500']>0)&(df[sym]>0)]\n",
    "    print(y1)\n",
    "    y2=df[(df['SP500']<0)&(df[sym]>0)]\n",
    "    print(y2)\n",
    "    y3=df[(df['SP500']>0)&(df[sym]<0)]\n",
    "    y4=df[(df['SP500']<0)&(df[sym]<0)]\n",
    "    model = sm.OLS(y1['SP500'], sm.add_constant(y1[sym]))\n",
    "    fit=model.fit()\n",
    "    expo1.append(fit.params[1])\n",
    "    \n",
    "    model = sm.OLS(y2['SP500'], sm.add_constant(y2[sym]))\n",
    "    fit=model.fit()\n",
    "    expo2.append(fit.params[1])\n",
    "    \n",
    "    model3 = sm.OLS(y3['SP500'], sm.add_constant(y3[sym]))\n",
    "    fit3=model3.fit()\n",
    "    expo3.append(fit3.params[1])\n",
    "    \n",
    "    model4 = sm.OLS(y4['SP500'], sm.add_constant(y4[sym]))\n",
    "    fit4=model4.fit()\n",
    "    expo4.append(fit4.params[1])\n",
    "   \n",
    "    \n",
    "    "
   ]
  },
  {
   "cell_type": "code",
   "execution_count": 1905,
   "metadata": {},
   "outputs": [],
   "source": [
    "sens=[]\n",
    "sens.append(np.mean(expo1))\n",
    "sens.append(np.mean(expo2))\n",
    "sens.append(np.mean(expo3))\n",
    "sens.append(np.mean(expo4))"
   ]
  },
  {
   "cell_type": "code",
   "execution_count": 1920,
   "metadata": {
    "scrolled": true
   },
   "outputs": [
    {
     "data": {
      "text/plain": [
       "[0.12411610214425804,\n",
       " 0.023796217219763553,\n",
       " 0.006574419473572603,\n",
       " 0.5058996997434418]"
      ]
     },
     "execution_count": 1920,
     "metadata": {},
     "output_type": "execute_result"
    },
    {
     "data": {
      "image/png": "[encoded data removed]",
      "text/plain": [
       "<Figure size 432x288 with 1 Axes>"
      ]
     },
     "metadata": {
      "needs_background": "light"
     },
     "output_type": "display_data"
    }
   ],
   "source": [
    "plt.axis([-0.2,0.2,-0.04,0.04])\n",
    "plt.axvline(x=0)\n",
    "plt.axhline(y=0)\n",
    "plt.text(0.1, 0.01,\"Slope:\"+str(sens[0].round(3)), fontsize=12)\n",
    "plt.text(-0.1, 0.01,\"Slope:\"+str(sens[1].round(3)), fontsize=12)\n",
    "plt.text(0.1, -0.01,\"Slope:\"+str(sens[2].round(3)), fontsize=12)\n",
    "plt.text(-0.1, -0.01,\"Slope:\"+str(sens[3].round(3)), fontsize=12)\n",
    "plt.xlabel('Market Return')\n",
    "plt.ylabel('Average Assets Return')\n",
    "plt.title('Sensitivity Analysis')\n",
    "sens"
   ]
  },
  {
   "cell_type": "code",
   "execution_count": 395,
   "metadata": {},
   "outputs": [
    {
     "data": {
      "image/png": "[encoded data removed]",
      "text/plain": [
       "<Figure size 432x288 with 1 Axes>"
      ]
     },
     "metadata": {},
     "output_type": "display_data"
    }
   ],
   "source": [
    "with plt.style.context(\"ggplot\"):\n",
    "    plt.scatter(dailyret[:-1]['ZBH UN'],sp500ret)\n",
    "    plt.xlabel(\"return of ZBH\")\n",
    "    plt.ylabel(\"return of SPY\")\n",
    "    plt.title(\"return of ZBH against return of SPY\")\n",
    "    plt.axhline()\n",
    "    plt.axvline()"
   ]
  },
  {
   "cell_type": "code",
   "execution_count": null,
   "metadata": {},
   "outputs": [],
   "source": []
  },
  {
   "cell_type": "markdown",
   "metadata": {},
   "source": [
    "### Unconditional Distributions and Autocorrelations of the semi betas"
   ]
  },
  {
   "cell_type": "code",
   "execution_count": 720,
   "metadata": {
    "scrolled": true
   },
   "outputs": [
    {
     "data": {
      "text/plain": [
       "Text(0.5, 1.0, 'Distribution of Semibetas')"
      ]
     },
     "execution_count": 720,
     "metadata": {},
     "output_type": "execute_result"
    },
    {
     "data": {
      "image/png": "[encoded data removed]",
      "text/plain": [
       "<Figure size 432x288 with 1 Axes>"
      ]
     },
     "metadata": {
      "needs_background": "light"
     },
     "output_type": "display_data"
    }
   ],
   "source": [
    "corrDF2=pd.DataFrame(columns=['Beta','BetaN','BetaP','BetaM+','BetaM-']) #Average across stock Function\n",
    "count=0\n",
    "for i in average:\n",
    "    corrDF2[corrDF2.columns[count]]=i.mean(axis=0).tolist()\n",
    "    count+=1\n",
    "\n",
    "seaborn.kdeplot(corrDF2['Beta'])\n",
    "seaborn.kdeplot(corrDF2['BetaN'])\n",
    "seaborn.kdeplot(corrDF2['BetaP'])\n",
    "seaborn.kdeplot(corrDF2['BetaM+'])\n",
    "seaborn.kdeplot(corrDF2['BetaM-'])\n",
    "plt.xlabel(\"Beta\")\n",
    "plt.ylabel(\"Density\")\n",
    "plt.title(\"Distribution of Semibetas\")"
   ]
  },
  {
   "cell_type": "code",
   "execution_count": 721,
   "metadata": {},
   "outputs": [
    {
     "name": "stderr",
     "output_type": "stream",
     "text": [
      "C:\\ProgramData\\Anaconda3\\lib\\site-packages\\statsmodels\\tsa\\stattools.py:568: FutureWarning: fft=True will become the default in a future version of statsmodels. To suppress this warning, explicitly set fft=False.\n",
      "  warnings.warn(\n"
     ]
    },
    {
     "data": {
      "text/plain": [
       "Text(0.5, 1.0, 'Autocorrelation Function of Semibetas')"
      ]
     },
     "execution_count": 721,
     "metadata": {},
     "output_type": "execute_result"
    },
    {
     "data": {
      "image/png": "[encoded data removed]",
      "text/plain": [
       "<Figure size 432x288 with 1 Axes>"
      ]
     },
     "metadata": {
      "needs_background": "light"
     },
     "output_type": "display_data"
    }
   ],
   "source": [
    "beta_acf=acf(corrDF2['Beta'],nlags=40)\n",
    "betaN_acf=acf(corrDF2['BetaN'],nlags=40)\n",
    "betaP_acf=acf(corrDF2['BetaP'],nlags=40)\n",
    "betampos_acf=acf(corrDF2['BetaM+'],nlags=40)\n",
    "betamneg_acf=acf(corrDF2['BetaM-'],nlags=40)\n",
    "plt.plot(betaN_acf,label='Beta N')\n",
    "plt.plot(betaP_acf,label='Beta P')\n",
    "plt.plot(beta_acf,label='Beta')\n",
    "plt.plot(betampos_acf,label='Beta M+')\n",
    "plt.plot(betamneg_acf,label='BetaM-')\n",
    "plt.legend(loc=\"upper right\")\n",
    "plt.xlabel('Lag')\n",
    "plt.ylabel('ACF')\n",
    "plt.title('Autocorrelation Function of Semibetas')"
   ]
  },
  {
   "cell_type": "code",
   "execution_count": null,
   "metadata": {},
   "outputs": [],
   "source": []
  },
  {
   "cell_type": "markdown",
   "metadata": {},
   "source": [
    "#### Preprocessing for Cross Sectional regression"
   ]
  },
  {
   "cell_type": "code",
   "execution_count": 727,
   "metadata": {},
   "outputs": [],
   "source": [
    "#Transpore the matrix. Drop the first column for daily ret\n",
    "crossd1=d1.T\n",
    "crossd1.drop(crossd1.columns[0],axis=1,inplace=True) #For US MARKET\n",
    "#Shift the beta matrix by 1 and remove the column with the nan value\n",
    "crossbP =bP.shift(1).T\n",
    "crossbN =bN.shift(1).T\n",
    "crossmneg =bmneg.shift(1).T\n",
    "crossmpos =bmpos.shift(1).T\n",
    "crossnormal =bnormal.shift(1).T\n",
    "crossbP.dropna(axis=1,inplace=True)\n",
    "crossbN.dropna(axis=1,inplace=True)\n",
    "crossmneg.dropna(axis=1,inplace=True)\n",
    "crossmpos.dropna(axis=1,inplace=True)"
   ]
  },
  {
   "cell_type": "code",
   "execution_count": null,
   "metadata": {},
   "outputs": [],
   "source": []
  },
  {
   "cell_type": "code",
   "execution_count": 580,
   "metadata": {},
   "outputs": [
    {
     "data": {
      "text/html": [
       "<div>\n",
       "<style scoped>\n",
       "    .dataframe tbody tr th:only-of-type {\n",
       "        vertical-align: middle;\n",
       "    }\n",
       "\n",
       "    .dataframe tbody tr th {\n",
       "        vertical-align: top;\n",
       "    }\n",
       "\n",
       "    .dataframe thead th {\n",
       "        text-align: right;\n",
       "    }\n",
       "</style>\n",
       "<table border=\"1\" class=\"dataframe\">\n",
       "  <thead>\n",
       "    <tr style=\"text-align: right;\">\n",
       "      <th></th>\n",
       "      <th>26/5/2020 0:00</th>\n",
       "      <th>27/5/2020 0:00</th>\n",
       "      <th>28/5/2020 0:00</th>\n",
       "      <th>29/5/2020 0:00</th>\n",
       "      <th>1/6/2020 0:00</th>\n",
       "      <th>2/6/2020 0:00</th>\n",
       "      <th>3/6/2020 0:00</th>\n",
       "      <th>4/6/2020 0:00</th>\n",
       "      <th>5/6/2020 0:00</th>\n",
       "      <th>9/6/2020 0:00</th>\n",
       "      <th>...</th>\n",
       "      <th>22/9/2020 0:00</th>\n",
       "      <th>23/9/2020 0:00</th>\n",
       "      <th>24/9/2020 0:00</th>\n",
       "      <th>25/9/2020 0:00</th>\n",
       "      <th>28/9/2020 0:00</th>\n",
       "      <th>29/9/2020 0:00</th>\n",
       "      <th>30/9/2020 0:00</th>\n",
       "      <th>1/10/2020 0:00</th>\n",
       "      <th>2/10/2020 0:00</th>\n",
       "      <th>5/10/2020 0:00</th>\n",
       "    </tr>\n",
       "  </thead>\n",
       "  <tbody>\n",
       "    <tr>\n",
       "      <th>A2M AT</th>\n",
       "      <td>-0.002235</td>\n",
       "      <td>-0.024076</td>\n",
       "      <td>0.006885</td>\n",
       "      <td>0.009117</td>\n",
       "      <td>-0.022586</td>\n",
       "      <td>-0.000578</td>\n",
       "      <td>0.011561</td>\n",
       "      <td>0.021143</td>\n",
       "      <td>-0.013990</td>\n",
       "      <td>0.000568</td>\n",
       "      <td>...</td>\n",
       "      <td>-0.001826</td>\n",
       "      <td>0.037805</td>\n",
       "      <td>-0.016451</td>\n",
       "      <td>0.025090</td>\n",
       "      <td>-0.114219</td>\n",
       "      <td>-0.040132</td>\n",
       "      <td>-0.037012</td>\n",
       "      <td>-0.002135</td>\n",
       "      <td>-0.002853</td>\n",
       "      <td>0.017883</td>\n",
       "    </tr>\n",
       "    <tr>\n",
       "      <th>ABC AT</th>\n",
       "      <td>0.031621</td>\n",
       "      <td>0.061303</td>\n",
       "      <td>0.021661</td>\n",
       "      <td>-0.038869</td>\n",
       "      <td>0.088235</td>\n",
       "      <td>0.030405</td>\n",
       "      <td>0.075410</td>\n",
       "      <td>0.024390</td>\n",
       "      <td>0.032738</td>\n",
       "      <td>-0.034582</td>\n",
       "      <td>...</td>\n",
       "      <td>-0.017921</td>\n",
       "      <td>0.014599</td>\n",
       "      <td>-0.025180</td>\n",
       "      <td>0.044280</td>\n",
       "      <td>0.014134</td>\n",
       "      <td>0.006969</td>\n",
       "      <td>-0.013841</td>\n",
       "      <td>0.024561</td>\n",
       "      <td>-0.020548</td>\n",
       "      <td>0.041958</td>\n",
       "    </tr>\n",
       "    <tr>\n",
       "      <th>ABP AT</th>\n",
       "      <td>0.043825</td>\n",
       "      <td>0.026718</td>\n",
       "      <td>-0.007435</td>\n",
       "      <td>-0.033708</td>\n",
       "      <td>-0.003876</td>\n",
       "      <td>-0.003891</td>\n",
       "      <td>0.007812</td>\n",
       "      <td>0.031008</td>\n",
       "      <td>0.033835</td>\n",
       "      <td>0.021818</td>\n",
       "      <td>...</td>\n",
       "      <td>0.029963</td>\n",
       "      <td>0.007273</td>\n",
       "      <td>0.036101</td>\n",
       "      <td>0.034843</td>\n",
       "      <td>-0.010101</td>\n",
       "      <td>0.003401</td>\n",
       "      <td>-0.013559</td>\n",
       "      <td>0.003436</td>\n",
       "      <td>-0.006849</td>\n",
       "      <td>0.024138</td>\n",
       "    </tr>\n",
       "    <tr>\n",
       "      <th>AGL AT</th>\n",
       "      <td>0.016324</td>\n",
       "      <td>0.011303</td>\n",
       "      <td>0.001176</td>\n",
       "      <td>-0.015276</td>\n",
       "      <td>0.003580</td>\n",
       "      <td>0.017241</td>\n",
       "      <td>0.016949</td>\n",
       "      <td>0.010920</td>\n",
       "      <td>-0.005685</td>\n",
       "      <td>0.032018</td>\n",
       "      <td>...</td>\n",
       "      <td>-0.021939</td>\n",
       "      <td>0.022431</td>\n",
       "      <td>0.007077</td>\n",
       "      <td>0.008433</td>\n",
       "      <td>0.001238</td>\n",
       "      <td>-0.017422</td>\n",
       "      <td>-0.034043</td>\n",
       "      <td>0.003671</td>\n",
       "      <td>-0.012436</td>\n",
       "      <td>0.025926</td>\n",
       "    </tr>\n",
       "    <tr>\n",
       "      <th>AIA AT</th>\n",
       "      <td>0.058407</td>\n",
       "      <td>0.023411</td>\n",
       "      <td>-0.016340</td>\n",
       "      <td>0.003322</td>\n",
       "      <td>-0.003311</td>\n",
       "      <td>0.013289</td>\n",
       "      <td>0.049180</td>\n",
       "      <td>0.023438</td>\n",
       "      <td>-0.018321</td>\n",
       "      <td>0.015552</td>\n",
       "      <td>...</td>\n",
       "      <td>-0.009245</td>\n",
       "      <td>0.031104</td>\n",
       "      <td>-0.022624</td>\n",
       "      <td>0.006173</td>\n",
       "      <td>0.024540</td>\n",
       "      <td>0.008982</td>\n",
       "      <td>-0.004451</td>\n",
       "      <td>0.008942</td>\n",
       "      <td>0.008837</td>\n",
       "      <td>0.001477</td>\n",
       "    </tr>\n",
       "    <tr>\n",
       "      <th>...</th>\n",
       "      <td>...</td>\n",
       "      <td>...</td>\n",
       "      <td>...</td>\n",
       "      <td>...</td>\n",
       "      <td>...</td>\n",
       "      <td>...</td>\n",
       "      <td>...</td>\n",
       "      <td>...</td>\n",
       "      <td>...</td>\n",
       "      <td>...</td>\n",
       "      <td>...</td>\n",
       "      <td>...</td>\n",
       "      <td>...</td>\n",
       "      <td>...</td>\n",
       "      <td>...</td>\n",
       "      <td>...</td>\n",
       "      <td>...</td>\n",
       "      <td>...</td>\n",
       "      <td>...</td>\n",
       "      <td>...</td>\n",
       "      <td>...</td>\n",
       "    </tr>\n",
       "    <tr>\n",
       "      <th>WPR AT</th>\n",
       "      <td>0.056452</td>\n",
       "      <td>0.000000</td>\n",
       "      <td>0.007634</td>\n",
       "      <td>0.003788</td>\n",
       "      <td>-0.011321</td>\n",
       "      <td>0.019084</td>\n",
       "      <td>-0.003745</td>\n",
       "      <td>-0.015038</td>\n",
       "      <td>-0.011450</td>\n",
       "      <td>0.034749</td>\n",
       "      <td>...</td>\n",
       "      <td>-0.014760</td>\n",
       "      <td>0.014981</td>\n",
       "      <td>0.007380</td>\n",
       "      <td>0.007326</td>\n",
       "      <td>0.003636</td>\n",
       "      <td>0.007246</td>\n",
       "      <td>-0.025180</td>\n",
       "      <td>0.014760</td>\n",
       "      <td>-0.003636</td>\n",
       "      <td>0.021898</td>\n",
       "    </tr>\n",
       "    <tr>\n",
       "      <th>WSA AT</th>\n",
       "      <td>0.004444</td>\n",
       "      <td>0.039823</td>\n",
       "      <td>-0.004255</td>\n",
       "      <td>-0.025641</td>\n",
       "      <td>0.017544</td>\n",
       "      <td>0.030172</td>\n",
       "      <td>0.025105</td>\n",
       "      <td>-0.028571</td>\n",
       "      <td>0.004202</td>\n",
       "      <td>0.008368</td>\n",
       "      <td>...</td>\n",
       "      <td>-0.039823</td>\n",
       "      <td>0.027650</td>\n",
       "      <td>-0.017937</td>\n",
       "      <td>0.004566</td>\n",
       "      <td>-0.031818</td>\n",
       "      <td>0.000000</td>\n",
       "      <td>-0.037559</td>\n",
       "      <td>0.019512</td>\n",
       "      <td>-0.023923</td>\n",
       "      <td>0.034314</td>\n",
       "    </tr>\n",
       "    <tr>\n",
       "      <th>WTC AT</th>\n",
       "      <td>0.014632</td>\n",
       "      <td>0.007210</td>\n",
       "      <td>-0.057718</td>\n",
       "      <td>-0.031814</td>\n",
       "      <td>-0.010790</td>\n",
       "      <td>0.046604</td>\n",
       "      <td>0.040265</td>\n",
       "      <td>0.025046</td>\n",
       "      <td>-0.015993</td>\n",
       "      <td>0.015801</td>\n",
       "      <td>...</td>\n",
       "      <td>0.018638</td>\n",
       "      <td>-0.000373</td>\n",
       "      <td>-0.022040</td>\n",
       "      <td>-0.014515</td>\n",
       "      <td>0.001163</td>\n",
       "      <td>0.034069</td>\n",
       "      <td>-0.034444</td>\n",
       "      <td>0.003102</td>\n",
       "      <td>-0.001546</td>\n",
       "      <td>0.005033</td>\n",
       "    </tr>\n",
       "    <tr>\n",
       "      <th>XRO AT</th>\n",
       "      <td>0.030788</td>\n",
       "      <td>-0.003998</td>\n",
       "      <td>0.003542</td>\n",
       "      <td>0.003176</td>\n",
       "      <td>0.015715</td>\n",
       "      <td>0.001501</td>\n",
       "      <td>0.029859</td>\n",
       "      <td>0.000560</td>\n",
       "      <td>-0.021929</td>\n",
       "      <td>-0.064173</td>\n",
       "      <td>...</td>\n",
       "      <td>0.043927</td>\n",
       "      <td>0.037450</td>\n",
       "      <td>-0.013689</td>\n",
       "      <td>0.003701</td>\n",
       "      <td>0.008297</td>\n",
       "      <td>0.029764</td>\n",
       "      <td>-0.006116</td>\n",
       "      <td>0.016476</td>\n",
       "      <td>0.007714</td>\n",
       "      <td>0.013857</td>\n",
       "    </tr>\n",
       "    <tr>\n",
       "      <th>Z1P AT</th>\n",
       "      <td>0.033520</td>\n",
       "      <td>-0.010811</td>\n",
       "      <td>-0.010929</td>\n",
       "      <td>0.035912</td>\n",
       "      <td>NaN</td>\n",
       "      <td>0.386667</td>\n",
       "      <td>0.221154</td>\n",
       "      <td>-0.062992</td>\n",
       "      <td>-0.052101</td>\n",
       "      <td>0.157801</td>\n",
       "      <td>...</td>\n",
       "      <td>0.001653</td>\n",
       "      <td>0.029703</td>\n",
       "      <td>-0.049679</td>\n",
       "      <td>0.005059</td>\n",
       "      <td>0.048658</td>\n",
       "      <td>0.024000</td>\n",
       "      <td>-0.035937</td>\n",
       "      <td>0.069692</td>\n",
       "      <td>-0.016667</td>\n",
       "      <td>0.041602</td>\n",
       "    </tr>\n",
       "  </tbody>\n",
       "</table>\n",
       "<p>192 rows × 94 columns</p>\n",
       "</div>"
      ],
      "text/plain": [
       "        26/5/2020 0:00  27/5/2020 0:00  28/5/2020 0:00  29/5/2020 0:00  \\\n",
       "A2M AT       -0.002235       -0.024076        0.006885        0.009117   \n",
       "ABC AT        0.031621        0.061303        0.021661       -0.038869   \n",
       "ABP AT        0.043825        0.026718       -0.007435       -0.033708   \n",
       "AGL AT        0.016324        0.011303        0.001176       -0.015276   \n",
       "AIA AT        0.058407        0.023411       -0.016340        0.003322   \n",
       "...                ...             ...             ...             ...   \n",
       "WPR AT        0.056452        0.000000        0.007634        0.003788   \n",
       "WSA AT        0.004444        0.039823       -0.004255       -0.025641   \n",
       "WTC AT        0.014632        0.007210       -0.057718       -0.031814   \n",
       "XRO AT        0.030788       -0.003998        0.003542        0.003176   \n",
       "Z1P AT        0.033520       -0.010811       -0.010929        0.035912   \n",
       "\n",
       "        1/6/2020 0:00  2/6/2020 0:00  3/6/2020 0:00  4/6/2020 0:00  \\\n",
       "A2M AT      -0.022586      -0.000578       0.011561       0.021143   \n",
       "ABC AT       0.088235       0.030405       0.075410       0.024390   \n",
       "ABP AT      -0.003876      -0.003891       0.007812       0.031008   \n",
       "AGL AT       0.003580       0.017241       0.016949       0.010920   \n",
       "AIA AT      -0.003311       0.013289       0.049180       0.023438   \n",
       "...               ...            ...            ...            ...   \n",
       "WPR AT      -0.011321       0.019084      -0.003745      -0.015038   \n",
       "WSA AT       0.017544       0.030172       0.025105      -0.028571   \n",
       "WTC AT      -0.010790       0.046604       0.040265       0.025046   \n",
       "XRO AT       0.015715       0.001501       0.029859       0.000560   \n",
       "Z1P AT            NaN       0.386667       0.221154      -0.062992   \n",
       "\n",
       "        5/6/2020 0:00  9/6/2020 0:00  ...  22/9/2020 0:00  23/9/2020 0:00  \\\n",
       "A2M AT      -0.013990       0.000568  ...       -0.001826        0.037805   \n",
       "ABC AT       0.032738      -0.034582  ...       -0.017921        0.014599   \n",
       "ABP AT       0.033835       0.021818  ...        0.029963        0.007273   \n",
       "AGL AT      -0.005685       0.032018  ...       -0.021939        0.022431   \n",
       "AIA AT      -0.018321       0.015552  ...       -0.009245        0.031104   \n",
       "...               ...            ...  ...             ...             ...   \n",
       "WPR AT      -0.011450       0.034749  ...       -0.014760        0.014981   \n",
       "WSA AT       0.004202       0.008368  ...       -0.039823        0.027650   \n",
       "WTC AT      -0.015993       0.015801  ...        0.018638       -0.000373   \n",
       "XRO AT      -0.021929      -0.064173  ...        0.043927        0.037450   \n",
       "Z1P AT      -0.052101       0.157801  ...        0.001653        0.029703   \n",
       "\n",
       "        24/9/2020 0:00  25/9/2020 0:00  28/9/2020 0:00  29/9/2020 0:00  \\\n",
       "A2M AT       -0.016451        0.025090       -0.114219       -0.040132   \n",
       "ABC AT       -0.025180        0.044280        0.014134        0.006969   \n",
       "ABP AT        0.036101        0.034843       -0.010101        0.003401   \n",
       "AGL AT        0.007077        0.008433        0.001238       -0.017422   \n",
       "AIA AT       -0.022624        0.006173        0.024540        0.008982   \n",
       "...                ...             ...             ...             ...   \n",
       "WPR AT        0.007380        0.007326        0.003636        0.007246   \n",
       "WSA AT       -0.017937        0.004566       -0.031818        0.000000   \n",
       "WTC AT       -0.022040       -0.014515        0.001163        0.034069   \n",
       "XRO AT       -0.013689        0.003701        0.008297        0.029764   \n",
       "Z1P AT       -0.049679        0.005059        0.048658        0.024000   \n",
       "\n",
       "        30/9/2020 0:00  1/10/2020 0:00  2/10/2020 0:00  5/10/2020 0:00  \n",
       "A2M AT       -0.037012       -0.002135       -0.002853        0.017883  \n",
       "ABC AT       -0.013841        0.024561       -0.020548        0.041958  \n",
       "ABP AT       -0.013559        0.003436       -0.006849        0.024138  \n",
       "AGL AT       -0.034043        0.003671       -0.012436        0.025926  \n",
       "AIA AT       -0.004451        0.008942        0.008837        0.001477  \n",
       "...                ...             ...             ...             ...  \n",
       "WPR AT       -0.025180        0.014760       -0.003636        0.021898  \n",
       "WSA AT       -0.037559        0.019512       -0.023923        0.034314  \n",
       "WTC AT       -0.034444        0.003102       -0.001546        0.005033  \n",
       "XRO AT       -0.006116        0.016476        0.007714        0.013857  \n",
       "Z1P AT       -0.035937        0.069692       -0.016667        0.041602  \n",
       "\n",
       "[192 rows x 94 columns]"
      ]
     },
     "execution_count": 580,
     "metadata": {},
     "output_type": "execute_result"
    }
   ],
   "source": [
    "crossd1"
   ]
  },
  {
   "cell_type": "code",
   "execution_count": 416,
   "metadata": {},
   "outputs": [],
   "source": [
    "#crossd1=crossd1.iloc[:,1:]"
   ]
  },
  {
   "cell_type": "code",
   "execution_count": null,
   "metadata": {},
   "outputs": [],
   "source": []
  },
  {
   "cell_type": "code",
   "execution_count": 673,
   "metadata": {
    "scrolled": true
   },
   "outputs": [
    {
     "data": {
      "text/html": [
       "<table class=\"simpletable\">\n",
       "<caption>OLS Regression Results</caption>\n",
       "<tr>\n",
       "  <th>Dep. Variable:</th>     <td>28/5/2020 0:00</td>  <th>  R-squared:         </th> <td>   0.035</td>\n",
       "</tr>\n",
       "<tr>\n",
       "  <th>Model:</th>                   <td>OLS</td>       <th>  Adj. R-squared:    </th> <td>   0.015</td>\n",
       "</tr>\n",
       "<tr>\n",
       "  <th>Method:</th>             <td>Least Squares</td>  <th>  F-statistic:       </th> <td>   1.718</td>\n",
       "</tr>\n",
       "<tr>\n",
       "  <th>Date:</th>             <td>Wed, 28 Oct 2020</td> <th>  Prob (F-statistic):</th>  <td> 0.148</td> \n",
       "</tr>\n",
       "<tr>\n",
       "  <th>Time:</th>                 <td>09:33:26</td>     <th>  Log-Likelihood:    </th> <td>  421.03</td>\n",
       "</tr>\n",
       "<tr>\n",
       "  <th>No. Observations:</th>      <td>   192</td>      <th>  AIC:               </th> <td>  -832.1</td>\n",
       "</tr>\n",
       "<tr>\n",
       "  <th>Df Residuals:</th>          <td>   187</td>      <th>  BIC:               </th> <td>  -815.8</td>\n",
       "</tr>\n",
       "<tr>\n",
       "  <th>Df Model:</th>              <td>     4</td>      <th>                     </th>     <td> </td>   \n",
       "</tr>\n",
       "<tr>\n",
       "  <th>Covariance Type:</th>      <td>nonrobust</td>    <th>                     </th>     <td> </td>   \n",
       "</tr>\n",
       "</table>\n",
       "<table class=\"simpletable\">\n",
       "<tr>\n",
       "     <td></td>       <th>coef</th>     <th>std err</th>      <th>t</th>      <th>P>|t|</th>  <th>[0.025</th>    <th>0.975]</th>  \n",
       "</tr>\n",
       "<tr>\n",
       "  <th>const</th>  <td>    0.0011</td> <td>    0.006</td> <td>    0.190</td> <td> 0.850</td> <td>   -0.010</td> <td>    0.012</td>\n",
       "</tr>\n",
       "<tr>\n",
       "  <th>betaN</th>  <td>    0.0213</td> <td>    0.009</td> <td>    2.240</td> <td> 0.026</td> <td>    0.003</td> <td>    0.040</td>\n",
       "</tr>\n",
       "<tr>\n",
       "  <th>betaP</th>  <td>   -0.0073</td> <td>    0.005</td> <td>   -1.349</td> <td> 0.179</td> <td>   -0.018</td> <td>    0.003</td>\n",
       "</tr>\n",
       "<tr>\n",
       "  <th>betaM-</th> <td>    0.0079</td> <td>    0.020</td> <td>    0.390</td> <td> 0.697</td> <td>   -0.032</td> <td>    0.048</td>\n",
       "</tr>\n",
       "<tr>\n",
       "  <th>betaM+</th> <td>    0.0097</td> <td>    0.013</td> <td>    0.755</td> <td> 0.451</td> <td>   -0.016</td> <td>    0.035</td>\n",
       "</tr>\n",
       "</table>\n",
       "<table class=\"simpletable\">\n",
       "<tr>\n",
       "  <th>Omnibus:</th>       <td>64.887</td> <th>  Durbin-Watson:     </th> <td>   2.047</td>\n",
       "</tr>\n",
       "<tr>\n",
       "  <th>Prob(Omnibus):</th> <td> 0.000</td> <th>  Jarque-Bera (JB):  </th> <td> 348.118</td>\n",
       "</tr>\n",
       "<tr>\n",
       "  <th>Skew:</th>          <td> 1.155</td> <th>  Prob(JB):          </th> <td>2.55e-76</td>\n",
       "</tr>\n",
       "<tr>\n",
       "  <th>Kurtosis:</th>      <td> 9.179</td> <th>  Cond. No.          </th> <td>    14.5</td>\n",
       "</tr>\n",
       "</table><br/><br/>Warnings:<br/>[1] Standard Errors assume that the covariance matrix of the errors is correctly specified."
      ],
      "text/plain": [
       "<class 'statsmodels.iolib.summary.Summary'>\n",
       "\"\"\"\n",
       "                            OLS Regression Results                            \n",
       "==============================================================================\n",
       "Dep. Variable:         28/5/2020 0:00   R-squared:                       0.035\n",
       "Model:                            OLS   Adj. R-squared:                  0.015\n",
       "Method:                 Least Squares   F-statistic:                     1.718\n",
       "Date:                Wed, 28 Oct 2020   Prob (F-statistic):              0.148\n",
       "Time:                        09:33:26   Log-Likelihood:                 421.03\n",
       "No. Observations:                 192   AIC:                            -832.1\n",
       "Df Residuals:                     187   BIC:                            -815.8\n",
       "Df Model:                           4                                         \n",
       "Covariance Type:            nonrobust                                         \n",
       "==============================================================================\n",
       "                 coef    std err          t      P>|t|      [0.025      0.975]\n",
       "------------------------------------------------------------------------------\n",
       "const          0.0011      0.006      0.190      0.850      -0.010       0.012\n",
       "betaN          0.0213      0.009      2.240      0.026       0.003       0.040\n",
       "betaP         -0.0073      0.005     -1.349      0.179      -0.018       0.003\n",
       "betaM-         0.0079      0.020      0.390      0.697      -0.032       0.048\n",
       "betaM+         0.0097      0.013      0.755      0.451      -0.016       0.035\n",
       "==============================================================================\n",
       "Omnibus:                       64.887   Durbin-Watson:                   2.047\n",
       "Prob(Omnibus):                  0.000   Jarque-Bera (JB):              348.118\n",
       "Skew:                           1.155   Prob(JB):                     2.55e-76\n",
       "Kurtosis:                       9.179   Cond. No.                         14.5\n",
       "==============================================================================\n",
       "\n",
       "Warnings:\n",
       "[1] Standard Errors assume that the covariance matrix of the errors is correctly specified.\n",
       "\"\"\""
      ]
     },
     "execution_count": 673,
     "metadata": {},
     "output_type": "execute_result"
    }
   ],
   "source": [
    "dailyfactors=pd.concat([crossbN.iloc[:,2],crossbP.iloc[:,2],crossmneg.iloc[:,2],crossmpos.iloc[:,2]],axis=1)\n",
    "dailyfactors.columns=['betaN','betaP','betaM-','betaM+']\n",
    "model = sm.OLS(crossd1.iloc[:,2],sm.add_constant(dailyfactors))\n",
    "model.fit().summary()\n"
   ]
  },
  {
   "cell_type": "markdown",
   "metadata": {},
   "source": [
    "## Cross Sectional Regression"
   ]
  },
  {
   "cell_type": "code",
   "execution_count": 731,
   "metadata": {},
   "outputs": [],
   "source": [
    "def crs(ret,bN,bP,bmneg,bmpos): #For 92 fixed points run a Fama and Macbeth type cross-secitional predictive regression\n",
    "    alphas=[]\n",
    "    errors=[]\n",
    "    betaP=[]\n",
    "    betaN=[]\n",
    "    betamneg=[]\n",
    "    betampos=[]\n",
    "    tvalalpha=[]\n",
    "    tvalP=[]\n",
    "    tvalN=[]\n",
    "    tvalmneg=[]\n",
    "    tvalmpos=[]\n",
    "    errors=[]\n",
    "    rsquared=[]\n",
    "    P=0\n",
    "    for a in ret.columns:\n",
    "        dailyfactors=pd.DataFrame()\n",
    "        dailyfactors=pd.concat([bN.iloc[:,P],bP.iloc[:,P],bmneg.iloc[:,P],bmpos.iloc[:,P]],axis=1)\n",
    "        dailyfactors.columns=['betaN','betaP','betaM-','betaM+']\n",
    "        model = sm.OLS(ret.iloc[:,P], sm.add_constant(dailyfactors[:]))\n",
    "        fit=model.fit()\n",
    "        alphas.append(fit.params[\"const\"])\n",
    "        betaN.append(fit.params[1])\n",
    "        betaP.append(fit.params[2])\n",
    "        betamneg.append(fit.params[3])\n",
    "        betampos.append(fit.params[4])\n",
    "        tvalalpha.append(fit.tvalues[\"const\"])\n",
    "        tvalN.append(fit.tvalues[1])\n",
    "        tvalP.append(fit.tvalues[2])\n",
    "        tvalmneg.append(fit.tvalues[3])\n",
    "        tvalmpos.append(fit.tvalues[4])\n",
    "        errors.append(fit.resid)\n",
    "        rsquared.append(fit.rsquared_adj)\n",
    "        P+=1\n",
    "    return(alphas,betaN,betaP,betamneg,betampos,errors,rsquared,tvalalpha,tvalN,tvalP,tvalmneg,tvalmpos)"
   ]
  },
  {
   "cell_type": "code",
   "execution_count": 732,
   "metadata": {},
   "outputs": [],
   "source": [
    "riskprem=crs(crossd1,crossbN,crossbP,crossmneg,crossmpos)\n",
    "#riskprem[1]"
   ]
  },
  {
   "cell_type": "code",
   "execution_count": null,
   "metadata": {},
   "outputs": [],
   "source": []
  },
  {
   "cell_type": "code",
   "execution_count": 734,
   "metadata": {
    "scrolled": true
   },
   "outputs": [
    {
     "data": {
      "text/plain": [
       "-0.006191640741773544"
      ]
     },
     "execution_count": 734,
     "metadata": {},
     "output_type": "execute_result"
    }
   ],
   "source": [
    "sum(riskprem[1])"
   ]
  },
  {
   "cell_type": "code",
   "execution_count": 735,
   "metadata": {},
   "outputs": [
    {
     "data": {
      "text/plain": [
       "count    92.000000\n",
       "mean     -0.000067\n",
       "std       0.010505\n",
       "min      -0.029395\n",
       "25%      -0.006708\n",
       "50%      -0.000326\n",
       "75%       0.005891\n",
       "max       0.039665\n",
       "dtype: float64"
      ]
     },
     "execution_count": 735,
     "metadata": {},
     "output_type": "execute_result"
    }
   ],
   "source": [
    "p=riskprem[1]\n",
    "t=pd.Series(v for v in p)\n",
    "t.describe().T"
   ]
  },
  {
   "cell_type": "code",
   "execution_count": 741,
   "metadata": {},
   "outputs": [],
   "source": [
    "def fm_summary(p):#Summary Statistics Function\n",
    "    t=pd.Series((v for v in p ))\n",
    "    s = t.describe().T\n",
    "    s['std_error'] = s['std']/np.sqrt(s['count'])\n",
    "    s['tstat'] = s['mean']/s['std_error']\n",
    "    return s[['mean','std','tstat']].T\n"
   ]
  },
  {
   "cell_type": "code",
   "execution_count": null,
   "metadata": {},
   "outputs": [],
   "source": []
  },
  {
   "cell_type": "code",
   "execution_count": 746,
   "metadata": {},
   "outputs": [
    {
     "data": {
      "text/html": [
       "<div>\n",
       "<style scoped>\n",
       "    .dataframe tbody tr th:only-of-type {\n",
       "        vertical-align: middle;\n",
       "    }\n",
       "\n",
       "    .dataframe tbody tr th {\n",
       "        vertical-align: top;\n",
       "    }\n",
       "\n",
       "    .dataframe thead th {\n",
       "        text-align: right;\n",
       "    }\n",
       "</style>\n",
       "<table border=\"1\" class=\"dataframe\">\n",
       "  <thead>\n",
       "    <tr style=\"text-align: right;\">\n",
       "      <th></th>\n",
       "      <th>BetaN</th>\n",
       "      <th>BetaP</th>\n",
       "      <th>BetaM-</th>\n",
       "      <th>BetaM+</th>\n",
       "    </tr>\n",
       "  </thead>\n",
       "  <tbody>\n",
       "    <tr>\n",
       "      <th>mean</th>\n",
       "      <td>-0.000067</td>\n",
       "      <td>-0.000239</td>\n",
       "      <td>-0.002531</td>\n",
       "      <td>0.001050</td>\n",
       "    </tr>\n",
       "    <tr>\n",
       "      <th>std</th>\n",
       "      <td>0.010505</td>\n",
       "      <td>0.012277</td>\n",
       "      <td>0.016439</td>\n",
       "      <td>0.019440</td>\n",
       "    </tr>\n",
       "    <tr>\n",
       "      <th>tstat</th>\n",
       "      <td>-0.061452</td>\n",
       "      <td>-0.187115</td>\n",
       "      <td>-1.476707</td>\n",
       "      <td>0.517881</td>\n",
       "    </tr>\n",
       "  </tbody>\n",
       "</table>\n",
       "</div>"
      ],
      "text/plain": [
       "          BetaN     BetaP    BetaM-    BetaM+\n",
       "mean  -0.000067 -0.000239 -0.002531  0.001050\n",
       "std    0.010505  0.012277  0.016439  0.019440\n",
       "tstat -0.061452 -0.187115 -1.476707  0.517881"
      ]
     },
     "execution_count": 746,
     "metadata": {},
     "output_type": "execute_result"
    }
   ],
   "source": [
    "CSsummary=pd.concat([fm_summary(riskprem[1]),fm_summary(riskprem[2]),fm_summary(riskprem[3]),fm_summary(riskprem[4])],axis=1)\n",
    "CSsummary.columns=['BetaN','BetaP','BetaM-','BetaM+']\n",
    "CSsummary"
   ]
  },
  {
   "cell_type": "code",
   "execution_count": 425,
   "metadata": {},
   "outputs": [],
   "source": [
    "riskpremcs=[] #Average of the risk premium across day\n",
    "for i in range(0,12):\n",
    "    #cleanedList = [x for x in riskprem[i] if not np.isnan(x)] # AusFor no return\n",
    "    riskpremcs.append(sum(riskprem[i])/len(riskprem[i])) #for us market because no nan return\n",
    "    # riskpremcs.append(sum(cleanedList)/len(cleanedList))#AusFor no return"
   ]
  },
  {
   "cell_type": "code",
   "execution_count": 426,
   "metadata": {},
   "outputs": [
    {
     "data": {
      "text/plain": [
       "[-6.730044284536461e-05,\n",
       " -0.00023949711768427788,\n",
       " -0.0025309076322165423,\n",
       " 0.0010496399307038332]"
      ]
     },
     "execution_count": 426,
     "metadata": {},
     "output_type": "execute_result"
    }
   ],
   "source": [
    "listprem=[] \n",
    "tstat=[]\n",
    "for i in range(1,5):  #skip the error term riskprem[6] orginally for AU market\n",
    "    listprem.append(riskpremcs[i])\n",
    "for j in range(7,11):\n",
    "    tstat.append(riskpremcs[j])\n",
    "rsquared=riskpremcs[6]\n",
    "listprem"
   ]
  },
  {
   "cell_type": "code",
   "execution_count": 505,
   "metadata": {},
   "outputs": [
    {
     "data": {
      "text/plain": [
       "0.0561534233364321"
      ]
     },
     "execution_count": 505,
     "metadata": {},
     "output_type": "execute_result"
    }
   ],
   "source": [
    "rsquared"
   ]
  },
  {
   "cell_type": "code",
   "execution_count": null,
   "metadata": {},
   "outputs": [],
   "source": []
  },
  {
   "cell_type": "code",
   "execution_count": 428,
   "metadata": {},
   "outputs": [
    {
     "data": {
      "text/html": [
       "<div>\n",
       "<style scoped>\n",
       "    .dataframe tbody tr th:only-of-type {\n",
       "        vertical-align: middle;\n",
       "    }\n",
       "\n",
       "    .dataframe tbody tr th {\n",
       "        vertical-align: top;\n",
       "    }\n",
       "\n",
       "    .dataframe thead th {\n",
       "        text-align: right;\n",
       "    }\n",
       "</style>\n",
       "<table border=\"1\" class=\"dataframe\">\n",
       "  <thead>\n",
       "    <tr style=\"text-align: right;\">\n",
       "      <th></th>\n",
       "      <th>BetaN</th>\n",
       "      <th>BetaP</th>\n",
       "      <th>BetaM-</th>\n",
       "      <th>BetaM+</th>\n",
       "    </tr>\n",
       "  </thead>\n",
       "  <tbody>\n",
       "    <tr>\n",
       "      <th>Mean</th>\n",
       "      <td>-0.000067</td>\n",
       "      <td>-0.000239</td>\n",
       "      <td>-0.002531</td>\n",
       "      <td>0.001050</td>\n",
       "    </tr>\n",
       "    <tr>\n",
       "      <th>T-stat</th>\n",
       "      <td>0.839398</td>\n",
       "      <td>-0.000520</td>\n",
       "      <td>-0.198431</td>\n",
       "      <td>-0.329009</td>\n",
       "    </tr>\n",
       "  </tbody>\n",
       "</table>\n",
       "</div>"
      ],
      "text/plain": [
       "           BetaN     BetaP    BetaM-    BetaM+\n",
       "Mean   -0.000067 -0.000239 -0.002531  0.001050\n",
       "T-stat  0.839398 -0.000520 -0.198431 -0.329009"
      ]
     },
     "execution_count": 428,
     "metadata": {},
     "output_type": "execute_result"
    }
   ],
   "source": [
    "CSsummary.index=['Mean','T-stat']\n",
    "CSsummary"
   ]
  },
  {
   "cell_type": "code",
   "execution_count": 747,
   "metadata": {
    "scrolled": true
   },
   "outputs": [
    {
     "data": {
      "text/plain": [
       "<matplotlib.axes._subplots.AxesSubplot at 0x2e4a3c7ac10>"
      ]
     },
     "execution_count": 747,
     "metadata": {},
     "output_type": "execute_result"
    },
    {
     "data": {
      "image/png": "[encoded data removed]",
      "text/plain": [
       "<Figure size 1152x576 with 1 Axes>"
      ]
     },
     "metadata": {
      "needs_background": "light"
     },
     "output_type": "display_data"
    }
   ],
   "source": [
    "RISKPREM=pd.DataFrame(columns=['RiskPremAlpha','RiskPrembetaN','RiskPrembetaP','RiskPrembetaM-','RiskPrembetaM+'])\n",
    "RISKPREM[RISKPREM.columns[0]]=riskprem[0]\n",
    "RISKPREM[RISKPREM.columns[1]]=riskprem[1]\n",
    "RISKPREM[RISKPREM.columns[2]]=riskprem[2]\n",
    "RISKPREM[RISKPREM.columns[3]]=riskprem[3]\n",
    "RISKPREM[RISKPREM.columns[4]]=riskprem[4]\n",
    "RISKPREM.plot(figsize=(16,8))"
   ]
  },
  {
   "cell_type": "markdown",
   "metadata": {},
   "source": [
    "### Compute the mean model r2 score\n"
   ]
  },
  {
   "cell_type": "code",
   "execution_count": 748,
   "metadata": {},
   "outputs": [
    {
     "data": {
      "text/html": [
       "<div>\n",
       "<style scoped>\n",
       "    .dataframe tbody tr th:only-of-type {\n",
       "        vertical-align: middle;\n",
       "    }\n",
       "\n",
       "    .dataframe tbody tr th {\n",
       "        vertical-align: top;\n",
       "    }\n",
       "\n",
       "    .dataframe thead th {\n",
       "        text-align: right;\n",
       "    }\n",
       "</style>\n",
       "<table border=\"1\" class=\"dataframe\">\n",
       "  <thead>\n",
       "    <tr style=\"text-align: right;\">\n",
       "      <th></th>\n",
       "      <th>0</th>\n",
       "    </tr>\n",
       "  </thead>\n",
       "  <tbody>\n",
       "    <tr>\n",
       "      <th>1</th>\n",
       "      <td>0.002688</td>\n",
       "    </tr>\n",
       "    <tr>\n",
       "      <th>2</th>\n",
       "      <td>-0.016738</td>\n",
       "    </tr>\n",
       "    <tr>\n",
       "      <th>3</th>\n",
       "      <td>-0.003585</td>\n",
       "    </tr>\n",
       "    <tr>\n",
       "      <th>4</th>\n",
       "      <td>0.015313</td>\n",
       "    </tr>\n",
       "    <tr>\n",
       "      <th>5</th>\n",
       "      <td>0.009823</td>\n",
       "    </tr>\n",
       "    <tr>\n",
       "      <th>...</th>\n",
       "      <td>...</td>\n",
       "    </tr>\n",
       "    <tr>\n",
       "      <th>87</th>\n",
       "      <td>0.005024</td>\n",
       "    </tr>\n",
       "    <tr>\n",
       "      <th>88</th>\n",
       "      <td>0.002927</td>\n",
       "    </tr>\n",
       "    <tr>\n",
       "      <th>89</th>\n",
       "      <td>-0.003187</td>\n",
       "    </tr>\n",
       "    <tr>\n",
       "      <th>90</th>\n",
       "      <td>-0.012699</td>\n",
       "    </tr>\n",
       "    <tr>\n",
       "      <th>91</th>\n",
       "      <td>0.013629</td>\n",
       "    </tr>\n",
       "  </tbody>\n",
       "</table>\n",
       "<p>91 rows × 1 columns</p>\n",
       "</div>"
      ],
      "text/plain": [
       "           0\n",
       "1   0.002688\n",
       "2  -0.016738\n",
       "3  -0.003585\n",
       "4   0.015313\n",
       "5   0.009823\n",
       "..       ...\n",
       "87  0.005024\n",
       "88  0.002927\n",
       "89 -0.003187\n",
       "90 -0.012699\n",
       "91  0.013629\n",
       "\n",
       "[91 rows x 1 columns]"
      ]
     },
     "execution_count": 748,
     "metadata": {},
     "output_type": "execute_result"
    }
   ],
   "source": [
    "dfObj=pd.DataFrame(riskprem[1])\n",
    "dfObj.shift(1).dropna()"
   ]
  },
  {
   "cell_type": "code",
   "execution_count": 749,
   "metadata": {},
   "outputs": [],
   "source": [
    " #For 92 fixed points run a Fama and Macbeth type cross-secitional predictive regression with the average riskpremium as an indicator of turure return\n",
    "count=0\n",
    "r2=[]\n",
    "for i in crossd1.columns:\n",
    "    y_pred=riskpremcs[0]+listprem[0]*crossbN.iloc[:,count]+listprem[1]*crossbP.iloc[:,count]+listprem[2]*crossmneg.iloc[:,count]+listprem[3]*crossmpos.iloc[:,count]\n",
    "    y_true=crossd1[crossd1.columns[count]]\n",
    "    score=r2_score(y_true,y_pred)\n",
    "    r2.append(score)\n",
    "    count+=1\n",
    "    \n"
   ]
  },
  {
   "cell_type": "code",
   "execution_count": 750,
   "metadata": {},
   "outputs": [],
   "source": [
    "dr2=pd.DataFrame(columns=['R2'])\n",
    "dr2['R2']=r2\n"
   ]
  },
  {
   "cell_type": "code",
   "execution_count": 1396,
   "metadata": {},
   "outputs": [],
   "source": [
    " #For 92 fixed points run a Fama and Macbeth type cross-secitional predictive regression to test previous day risk prem as  an indicator of future returns\n",
    "count=0\n",
    "r2new=[]\n",
    "for i in crossd1.columns:\n",
    "    if count+1==92:\n",
    "        None\n",
    "    else:\n",
    "        y_pred=riskprem[0][count]+riskprem[1][count]*crossbN.iloc[:,count+1]+riskprem[2][count]*crossbP.iloc[:,1]+riskprem[3][count]*crossmneg.iloc[:,count+1]+riskprem[4][count]*crossmpos.iloc[:,count+1]\n",
    "        y_true=crossd1[crossd1.columns[count+1]]\n",
    "        score=r2_score(y_true,y_pred)\n",
    "        r2new.append(score)\n",
    "    count+=1\n",
    "    \n",
    "    \n"
   ]
  },
  {
   "cell_type": "code",
   "execution_count": 751,
   "metadata": {},
   "outputs": [
    {
     "data": {
      "text/plain": [
       "-0.4490902875538643"
      ]
     },
     "execution_count": 751,
     "metadata": {},
     "output_type": "execute_result"
    }
   ],
   "source": [
    "sum(r2)/len(r2)"
   ]
  },
  {
   "cell_type": "code",
   "execution_count": null,
   "metadata": {},
   "outputs": [],
   "source": []
  },
  {
   "cell_type": "markdown",
   "metadata": {},
   "source": [
    "### Interday data closing price of s&p500 constituents"
   ]
  },
  {
   "cell_type": "code",
   "execution_count": 1416,
   "metadata": {},
   "outputs": [],
   "source": [
    "dailydf23=pd.DataFrame()\n",
    "for sym in sp500equity:\n",
    "    ds=blp.bdh(tickers=sym,flds=['last_price'],start_date='1999-01-01',end_date='2020-10-1')\n",
    "    if not ds.empty:\n",
    "        ds.columns=ds.columns.droplevel()\n",
    "        dailydf23=pd.concat([dailydf23,ds],axis=1)\n",
    "    else:\n",
    "        print(sym)\n"
   ]
  },
  {
   "cell_type": "code",
   "execution_count": 1490,
   "metadata": {
    "scrolled": true
   },
   "outputs": [
    {
     "data": {
      "text/plain": [
       "['AEP UW',\n",
       " 'AMCR UN',\n",
       " 'APA UW',\n",
       " 'CARR UN',\n",
       " 'CSX UW',\n",
       " 'CTVA UN',\n",
       " 'DOW UN',\n",
       " 'DXC UN',\n",
       " 'ETSY UW',\n",
       " 'EXC UW',\n",
       " 'FOX UW',\n",
       " 'FOXA UW',\n",
       " 'FTV UN',\n",
       " 'HPE UN',\n",
       " 'HWM UN',\n",
       " 'INFO UN',\n",
       " 'IR UN',\n",
       " 'KHC UW',\n",
       " 'LNT UW',\n",
       " 'LW UN',\n",
       " 'NBL UW',\n",
       " 'NCLH UN',\n",
       " 'NWL UW',\n",
       " 'OTIS UN',\n",
       " 'PEP UW',\n",
       " 'PFG UW',\n",
       " 'PYPL UW',\n",
       " 'REG UW',\n",
       " 'TER UW',\n",
       " 'TMUS UW',\n",
       " 'UA UN',\n",
       " 'UAL UW',\n",
       " 'VIAC UW',\n",
       " 'WLTW UW',\n",
       " 'WRK UN',\n",
       " 'XEL UW']"
      ]
     },
     "execution_count": 1490,
     "metadata": {},
     "output_type": "execute_result"
    }
   ],
   "source": [
    "dailydf23.columns=data\n",
    "dailydf23.loc['2015-01-01':].columns[dailydf23.loc['2015-01-01':].isnull().sum()>10].tolist()"
   ]
  },
  {
   "cell_type": "markdown",
   "metadata": {},
   "source": [
    "## Cross-sectional Factor Portfolio"
   ]
  },
  {
   "cell_type": "code",
   "execution_count": 815,
   "metadata": {},
   "outputs": [],
   "source": [
    "import statistics\n",
    "import pyfolio as pf\n",
    "import pandas_datareader as web\n",
    "w1=61452/(61452+1476707) #Factor weightage based on T-stat for Semi Betas\n",
    "w2=1-w1"
   ]
  },
  {
   "cell_type": "code",
   "execution_count": 863,
   "metadata": {
    "scrolled": true
   },
   "outputs": [
    {
     "data": {
      "text/plain": [
       "Text(0.5, 1.0, 'S&P500 Index Closing Price')"
      ]
     },
     "execution_count": 863,
     "metadata": {},
     "output_type": "execute_result"
    },
    {
     "data": {
      "image/png": "[encoded data removed]",
      "text/plain": [
       "<Figure size 1152x576 with 1 Axes>"
      ]
     },
     "metadata": {
      "needs_background": "light"
     },
     "output_type": "display_data"
    }
   ],
   "source": [
    "SPY=web.DataReader('^GSPC','yahoo',start='5-25-2020',end='10-5-2020')\n",
    "SPY['Adj Close'].plot(figsize=(16,8))\n",
    "plt.title('S&P500 Index Closing Price')"
   ]
  },
  {
   "cell_type": "markdown",
   "metadata": {},
   "source": [
    "## Decision RANKING"
   ]
  },
  {
   "cell_type": "code",
   "execution_count": 906,
   "metadata": {},
   "outputs": [],
   "source": [
    "def rankfactorreturn(crossd1,crossbN,crossmneg):\n",
    "    dailypnl=[]\n",
    "    i=0\n",
    "    crossd1=np.log(1+crossd1)\n",
    "    for ab in crossd1.columns:\n",
    "        r=pd.concat([crossd1.iloc[:,i],(crossbN.iloc[:,i])],axis=1)\n",
    "        r.columns=['Returns','Factors']\n",
    "        r=r.sort_values(by='Factors',ascending=False)\n",
    "        thres=[.75,.25]\n",
    "        upper=r.quantile([thres[0],thres[1]],axis=0)['Factors'][thres[0]] #Top 25 Quintile \n",
    "        lower=r.quantile([thres[0],thres[1]],axis=0)['Factors'][thres[1]] #Lower 25 Quintile\n",
    "        retlong=r[r['Factors']>upper]['Returns'].sum()*1\n",
    "        retshort=r[r['Factors']<lower]['Returns'].sum()*-1\n",
    "        dailypnl.append(retlong+retshort)\n",
    "        i+=1\n",
    "    return dailypnl"
   ]
  },
  {
   "cell_type": "code",
   "execution_count": null,
   "metadata": {},
   "outputs": [],
   "source": []
  },
  {
   "cell_type": "code",
   "execution_count": 895,
   "metadata": {},
   "outputs": [
    {
     "data": {
      "text/html": [
       "<div>\n",
       "<style scoped>\n",
       "    .dataframe tbody tr th:only-of-type {\n",
       "        vertical-align: middle;\n",
       "    }\n",
       "\n",
       "    .dataframe tbody tr th {\n",
       "        vertical-align: top;\n",
       "    }\n",
       "\n",
       "    .dataframe thead th {\n",
       "        text-align: right;\n",
       "    }\n",
       "</style>\n",
       "<table border=\"1\" class=\"dataframe\">\n",
       "  <thead>\n",
       "    <tr style=\"text-align: right;\">\n",
       "      <th></th>\n",
       "      <th>2020-05-27 00:00:00</th>\n",
       "      <th>2020-05-28 00:00:00</th>\n",
       "      <th>2020-05-29 00:00:00</th>\n",
       "      <th>2020-06-01 00:00:00</th>\n",
       "      <th>2020-06-02 00:00:00</th>\n",
       "      <th>2020-06-03 00:00:00</th>\n",
       "      <th>2020-06-04 00:00:00</th>\n",
       "      <th>2020-06-05 00:00:00</th>\n",
       "      <th>2020-06-08 00:00:00</th>\n",
       "      <th>2020-06-09 00:00:00</th>\n",
       "      <th>...</th>\n",
       "      <th>2020-09-22 00:00:00</th>\n",
       "      <th>2020-09-23 00:00:00</th>\n",
       "      <th>2020-09-24 00:00:00</th>\n",
       "      <th>2020-09-25 00:00:00</th>\n",
       "      <th>2020-09-28 00:00:00</th>\n",
       "      <th>2020-09-29 00:00:00</th>\n",
       "      <th>2020-09-30 00:00:00</th>\n",
       "      <th>2020-10-01 00:00:00</th>\n",
       "      <th>2020-10-02 00:00:00</th>\n",
       "      <th>2020-10-05 00:00:00</th>\n",
       "    </tr>\n",
       "  </thead>\n",
       "  <tbody>\n",
       "    <tr>\n",
       "      <th>A UN</th>\n",
       "      <td>0.359233</td>\n",
       "      <td>1.075269</td>\n",
       "      <td>0.854235</td>\n",
       "      <td>0.621865</td>\n",
       "      <td>0.603868</td>\n",
       "      <td>1.079736</td>\n",
       "      <td>1.337684</td>\n",
       "      <td>0.942835</td>\n",
       "      <td>1.224649</td>\n",
       "      <td>0.484853</td>\n",
       "      <td>...</td>\n",
       "      <td>0.872827</td>\n",
       "      <td>0.554463</td>\n",
       "      <td>0.861789</td>\n",
       "      <td>0.633446</td>\n",
       "      <td>1.118527</td>\n",
       "      <td>1.686331</td>\n",
       "      <td>0.711235</td>\n",
       "      <td>0.867535</td>\n",
       "      <td>1.061104</td>\n",
       "      <td>0.963577</td>\n",
       "    </tr>\n",
       "    <tr>\n",
       "      <th>AAL UW</th>\n",
       "      <td>1.252661</td>\n",
       "      <td>3.608485</td>\n",
       "      <td>1.672956</td>\n",
       "      <td>2.310211</td>\n",
       "      <td>4.460692</td>\n",
       "      <td>1.463092</td>\n",
       "      <td>2.487948</td>\n",
       "      <td>7.211513</td>\n",
       "      <td>9.147209</td>\n",
       "      <td>1.625612</td>\n",
       "      <td>...</td>\n",
       "      <td>1.484187</td>\n",
       "      <td>0.899941</td>\n",
       "      <td>1.745462</td>\n",
       "      <td>1.390260</td>\n",
       "      <td>1.558116</td>\n",
       "      <td>-0.155514</td>\n",
       "      <td>1.355592</td>\n",
       "      <td>1.819357</td>\n",
       "      <td>1.884292</td>\n",
       "      <td>2.336606</td>\n",
       "    </tr>\n",
       "    <tr>\n",
       "      <th>AAP UN</th>\n",
       "      <td>1.275105</td>\n",
       "      <td>0.241871</td>\n",
       "      <td>1.031711</td>\n",
       "      <td>0.748445</td>\n",
       "      <td>0.879922</td>\n",
       "      <td>0.939828</td>\n",
       "      <td>1.088733</td>\n",
       "      <td>1.404866</td>\n",
       "      <td>1.438440</td>\n",
       "      <td>-0.119805</td>\n",
       "      <td>...</td>\n",
       "      <td>0.457261</td>\n",
       "      <td>1.398936</td>\n",
       "      <td>0.733319</td>\n",
       "      <td>0.908762</td>\n",
       "      <td>0.615932</td>\n",
       "      <td>1.648507</td>\n",
       "      <td>0.376690</td>\n",
       "      <td>0.947965</td>\n",
       "      <td>1.388897</td>\n",
       "      <td>1.138745</td>\n",
       "    </tr>\n",
       "    <tr>\n",
       "      <th>AAPL UW</th>\n",
       "      <td>1.547639</td>\n",
       "      <td>1.035289</td>\n",
       "      <td>1.225238</td>\n",
       "      <td>0.625215</td>\n",
       "      <td>0.991252</td>\n",
       "      <td>0.953876</td>\n",
       "      <td>0.886510</td>\n",
       "      <td>0.840162</td>\n",
       "      <td>0.479551</td>\n",
       "      <td>1.067233</td>\n",
       "      <td>...</td>\n",
       "      <td>2.039303</td>\n",
       "      <td>1.615244</td>\n",
       "      <td>1.703272</td>\n",
       "      <td>1.511983</td>\n",
       "      <td>1.171084</td>\n",
       "      <td>1.112426</td>\n",
       "      <td>1.127328</td>\n",
       "      <td>1.459406</td>\n",
       "      <td>1.007056</td>\n",
       "      <td>1.386717</td>\n",
       "    </tr>\n",
       "    <tr>\n",
       "      <th>ABBV UN</th>\n",
       "      <td>0.536083</td>\n",
       "      <td>1.033499</td>\n",
       "      <td>0.592273</td>\n",
       "      <td>0.987609</td>\n",
       "      <td>1.127408</td>\n",
       "      <td>1.123728</td>\n",
       "      <td>0.920368</td>\n",
       "      <td>0.727242</td>\n",
       "      <td>0.709065</td>\n",
       "      <td>0.452079</td>\n",
       "      <td>...</td>\n",
       "      <td>0.919516</td>\n",
       "      <td>0.812665</td>\n",
       "      <td>0.454657</td>\n",
       "      <td>0.478690</td>\n",
       "      <td>0.648092</td>\n",
       "      <td>0.776136</td>\n",
       "      <td>0.931714</td>\n",
       "      <td>0.832816</td>\n",
       "      <td>0.782080</td>\n",
       "      <td>0.820797</td>\n",
       "    </tr>\n",
       "  </tbody>\n",
       "</table>\n",
       "<p>5 rows × 92 columns</p>\n",
       "</div>"
      ],
      "text/plain": [
       "         2020-05-27 00:00:00  2020-05-28 00:00:00  2020-05-29 00:00:00  \\\n",
       "A UN                0.359233             1.075269             0.854235   \n",
       "AAL UW              1.252661             3.608485             1.672956   \n",
       "AAP UN              1.275105             0.241871             1.031711   \n",
       "AAPL UW             1.547639             1.035289             1.225238   \n",
       "ABBV UN             0.536083             1.033499             0.592273   \n",
       "\n",
       "         2020-06-01 00:00:00  2020-06-02 00:00:00  2020-06-03 00:00:00  \\\n",
       "A UN                0.621865             0.603868             1.079736   \n",
       "AAL UW              2.310211             4.460692             1.463092   \n",
       "AAP UN              0.748445             0.879922             0.939828   \n",
       "AAPL UW             0.625215             0.991252             0.953876   \n",
       "ABBV UN             0.987609             1.127408             1.123728   \n",
       "\n",
       "         2020-06-04 00:00:00  2020-06-05 00:00:00  2020-06-08 00:00:00  \\\n",
       "A UN                1.337684             0.942835             1.224649   \n",
       "AAL UW              2.487948             7.211513             9.147209   \n",
       "AAP UN              1.088733             1.404866             1.438440   \n",
       "AAPL UW             0.886510             0.840162             0.479551   \n",
       "ABBV UN             0.920368             0.727242             0.709065   \n",
       "\n",
       "         2020-06-09 00:00:00  ...  2020-09-22 00:00:00  2020-09-23 00:00:00  \\\n",
       "A UN                0.484853  ...             0.872827             0.554463   \n",
       "AAL UW              1.625612  ...             1.484187             0.899941   \n",
       "AAP UN             -0.119805  ...             0.457261             1.398936   \n",
       "AAPL UW             1.067233  ...             2.039303             1.615244   \n",
       "ABBV UN             0.452079  ...             0.919516             0.812665   \n",
       "\n",
       "         2020-09-24 00:00:00  2020-09-25 00:00:00  2020-09-28 00:00:00  \\\n",
       "A UN                0.861789             0.633446             1.118527   \n",
       "AAL UW              1.745462             1.390260             1.558116   \n",
       "AAP UN              0.733319             0.908762             0.615932   \n",
       "AAPL UW             1.703272             1.511983             1.171084   \n",
       "ABBV UN             0.454657             0.478690             0.648092   \n",
       "\n",
       "         2020-09-29 00:00:00  2020-09-30 00:00:00  2020-10-01 00:00:00  \\\n",
       "A UN                1.686331             0.711235             0.867535   \n",
       "AAL UW             -0.155514             1.355592             1.819357   \n",
       "AAP UN              1.648507             0.376690             0.947965   \n",
       "AAPL UW             1.112426             1.127328             1.459406   \n",
       "ABBV UN             0.776136             0.931714             0.832816   \n",
       "\n",
       "         2020-10-02 00:00:00  2020-10-05 00:00:00  \n",
       "A UN                1.061104             0.963577  \n",
       "AAL UW              1.884292             2.336606  \n",
       "AAP UN              1.388897             1.138745  \n",
       "AAPL UW             1.007056             1.386717  \n",
       "ABBV UN             0.782080             0.820797  \n",
       "\n",
       "[5 rows x 92 columns]"
      ]
     },
     "execution_count": 895,
     "metadata": {},
     "output_type": "execute_result"
    }
   ],
   "source": [
    "crossbeta=crossbN-crossmneg+crossbP-crossmpos\n",
    "crossbeta.head()"
   ]
  },
  {
   "cell_type": "code",
   "execution_count": 911,
   "metadata": {},
   "outputs": [
    {
     "data": {
      "text/html": [
       "<div>\n",
       "<style scoped>\n",
       "    .dataframe tbody tr th:only-of-type {\n",
       "        vertical-align: middle;\n",
       "    }\n",
       "\n",
       "    .dataframe tbody tr th {\n",
       "        vertical-align: top;\n",
       "    }\n",
       "\n",
       "    .dataframe thead th {\n",
       "        text-align: right;\n",
       "    }\n",
       "</style>\n",
       "<table border=\"1\" class=\"dataframe\">\n",
       "  <thead>\n",
       "    <tr style=\"text-align: right;\">\n",
       "      <th></th>\n",
       "      <th>TraditionalBeta</th>\n",
       "      <th>Semi Beta</th>\n",
       "      <th>Beta N</th>\n",
       "      <th>BetaM-</th>\n",
       "      <th>BetaP</th>\n",
       "      <th>BetaM+</th>\n",
       "    </tr>\n",
       "  </thead>\n",
       "  <tbody>\n",
       "    <tr>\n",
       "      <th>Avg Ret</th>\n",
       "      <td>0.231242</td>\n",
       "      <td>1.029608</td>\n",
       "      <td>-0.939097</td>\n",
       "      <td>1.119712</td>\n",
       "      <td>0.377187</td>\n",
       "      <td>-0.936269</td>\n",
       "    </tr>\n",
       "    <tr>\n",
       "      <th>Std dev</th>\n",
       "      <td>1.247574</td>\n",
       "      <td>1.105576</td>\n",
       "      <td>1.254813</td>\n",
       "      <td>0.825875</td>\n",
       "      <td>1.153028</td>\n",
       "      <td>0.854571</td>\n",
       "    </tr>\n",
       "    <tr>\n",
       "      <th>Sharpe</th>\n",
       "      <td>0.185354</td>\n",
       "      <td>0.931287</td>\n",
       "      <td>-0.748396</td>\n",
       "      <td>1.355789</td>\n",
       "      <td>0.327128</td>\n",
       "      <td>-1.095601</td>\n",
       "    </tr>\n",
       "  </tbody>\n",
       "</table>\n",
       "</div>"
      ],
      "text/plain": [
       "         TraditionalBeta  Semi Beta    Beta N    BetaM-     BetaP    BetaM+\n",
       "Avg Ret         0.231242   1.029608 -0.939097  1.119712  0.377187 -0.936269\n",
       "Std dev         1.247574   1.105576  1.254813  0.825875  1.153028  0.854571\n",
       "Sharpe          0.185354   0.931287 -0.748396  1.355789  0.327128 -1.095601"
      ]
     },
     "execution_count": 911,
     "metadata": {},
     "output_type": "execute_result"
    }
   ],
   "source": [
    "portRetSummary=pd.DataFrame(columns=['TraditionalBeta','Semi Beta','Beta N','BetaM-','BetaP','BetaM+'],index=['Avg Ret','Std dev','Sharpe'])\n",
    "c=0\n",
    "for i in [crossbeta,(crossbP-crossmneg),crossbN,-crossmneg,crossbP,crossmpos]:\n",
    "    pnl=rankfactorreturn(crossd1,i,0)\n",
    "    avgpnl=(sum(pnl))/len(pnl)\n",
    "    sharpe=(avgpnl)/np.std(pnl)*np.sqrt(252)\n",
    "    portRetSummary[portRetSummary.columns[c]]=[avgpnl*np.sqrt(252),np.std(pnl),sharpe]#annualize the avg ret\n",
    "    c+=1\n",
    "portRetSummary\n"
   ]
  },
  {
   "cell_type": "code",
   "execution_count": 945,
   "metadata": {},
   "outputs": [],
   "source": [
    "stock_rets = web.DataReader('FB','yahoo',start='10-10-2010',end='10-10-2019').pct_change()\n",
    "stock_rets.dropna(inplace=True)"
   ]
  },
  {
   "cell_type": "code",
   "execution_count": 950,
   "metadata": {},
   "outputs": [
    {
     "data": {
      "text/plain": [
       "DatetimeIndex(['2012-05-21', '2012-05-22', '2012-05-23', '2012-05-24',\n",
       "               '2012-05-25', '2012-05-29', '2012-05-30', '2012-05-31',\n",
       "               '2012-06-01', '2012-06-04',\n",
       "               ...\n",
       "               '2019-09-27', '2019-09-30', '2019-10-01', '2019-10-02',\n",
       "               '2019-10-03', '2019-10-04', '2019-10-07', '2019-10-08',\n",
       "               '2019-10-09', '2019-10-10'],\n",
       "              dtype='datetime64[ns]', name='Date', length=1860, freq=None)"
      ]
     },
     "execution_count": 950,
     "metadata": {},
     "output_type": "execute_result"
    }
   ],
   "source": [
    "stock_rets.index"
   ]
  },
  {
   "cell_type": "code",
   "execution_count": null,
   "metadata": {},
   "outputs": [],
   "source": [
    "\n"
   ]
  },
  {
   "cell_type": "code",
   "execution_count": 245,
   "metadata": {},
   "outputs": [],
   "source": [
    "#os.chdir('C:\\\\Users\\\\raymond.widjaja\\\\Desktop')\n",
    "#os.getcwd\n",
    "#listdf=pd.DataFrame(sp500equity,columns=['List'])\n",
    "#listdf.to_csv('list.csv')\n",
    "#dailydf23.to_csv('DailyUSequityunformatted.csv')"
   ]
  }
 ],
 "metadata": {
  "kernelspec": {
   "display_name": "Python 3",
   "language": "python",
   "name": "python3"
  },
  "language_info": {
   "codemirror_mode": {
    "name": "ipython",
    "version": 3
   },
   "file_extension": ".py",
   "mimetype": "text/x-python",
   "name": "python",
   "nbconvert_exporter": "python",
   "pygments_lexer": "ipython3",
   "version": "3.8.3"
  }
 },
 "nbformat": 4,
 "nbformat_minor": 4
}
